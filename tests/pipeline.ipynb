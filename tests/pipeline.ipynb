{
 "cells": [
  {
   "cell_type": "code",
   "execution_count": null,
   "id": "initial_id",
   "metadata": {
    "collapsed": true,
    "jupyter": {
     "outputs_hidden": true
    }
   },
   "outputs": [],
   "source": [
    "import pandas as pd\n",
    "\n",
    "from api.data.collection import (store_database_for_eys_gene,\n",
    "                                    LOVD_PATH)\n",
    "from api.data.refactoring import (save_lovd_as_vcf,\n",
    "                                  set_lovd_dtypes,\n",
    "                                  parse_lovd)\n",
    "pd.options.display.max_columns = 0"
   ]
  },
  {
   "cell_type": "code",
   "execution_count": 9,
   "id": "f49f7691a27aa7b4",
   "metadata": {
    "collapsed": false,
    "ExecuteTime": {
     "end_time": "2024-08-02T19:19:26.284010Z",
     "start_time": "2024-08-02T19:19:26.280310Z"
    }
   },
   "outputs": [
    {
     "name": "stdout",
     "output_type": "stream",
     "text": [
      "The file at ../data/lovd/lovd_data.txt already exists.\n"
     ]
    }
   ],
   "source": [
    "store_database_for_eys_gene(\"lovd\", override=False)"
   ]
  },
  {
   "cell_type": "code",
   "execution_count": 10,
   "id": "cf5c45c0f7b9de0f",
   "metadata": {
    "collapsed": false,
    "ExecuteTime": {
     "end_time": "2024-08-02T19:19:33.767241Z",
     "start_time": "2024-08-02T19:19:26.285014Z"
    }
   },
   "outputs": [],
   "source": [
    "data = parse_lovd(LOVD_PATH + \"/lovd_data.txt\")"
   ]
  },
  {
   "cell_type": "code",
   "execution_count": 11,
   "id": "8a089e29bfc8c119",
   "metadata": {
    "ExecuteTime": {
     "end_time": "2024-08-02T19:19:33.941815Z",
     "start_time": "2024-08-02T19:19:33.768243Z"
    }
   },
   "outputs": [
    {
     "name": "stdout",
     "output_type": "stream",
     "text": [
      "Genes\n"
     ]
    },
    {
     "data": {
      "text/plain": "    id                            name  ... updated_by         updated_date\n0  EYS  eyes shut homolog (Drosophila)  ...      00006  2024-05-31 11:42:04\n\n[1 rows x 34 columns]",
      "text/html": "<div>\n<style scoped>\n    .dataframe tbody tr th:only-of-type {\n        vertical-align: middle;\n    }\n\n    .dataframe tbody tr th {\n        vertical-align: top;\n    }\n\n    .dataframe thead th {\n        text-align: right;\n    }\n</style>\n<table border=\"1\" class=\"dataframe\">\n  <thead>\n    <tr style=\"text-align: right;\">\n      <th></th>\n      <th>id</th>\n      <th>name</th>\n      <th>chromosome</th>\n      <th>chrom_band</th>\n      <th>imprinting</th>\n      <th>refseq_genomic</th>\n      <th>refseq_UD</th>\n      <th>reference</th>\n      <th>url_homepage</th>\n      <th>url_external</th>\n      <th>allow_download</th>\n      <th>id_hgnc</th>\n      <th>id_entrez</th>\n      <th>id_omim</th>\n      <th>show_hgmd</th>\n      <th>show_genecards</th>\n      <th>show_genetests</th>\n      <th>show_orphanet</th>\n      <th>note_index</th>\n      <th>note_listing</th>\n      <th>refseq</th>\n      <th>refseq_url</th>\n      <th>disclaimer</th>\n      <th>disclaimer_text</th>\n      <th>header</th>\n      <th>header_align</th>\n      <th>footer</th>\n      <th>footer_align</th>\n      <th>created_by</th>\n      <th>created_date</th>\n      <th>edited_by</th>\n      <th>edited_date</th>\n      <th>updated_by</th>\n      <th>updated_date</th>\n    </tr>\n  </thead>\n  <tbody>\n    <tr>\n      <th>0</th>\n      <td>EYS</td>\n      <td>eyes shut homolog (Drosophila)</td>\n      <td>6</td>\n      <td>q12</td>\n      <td>unknown</td>\n      <td>NG_023443.2</td>\n      <td>UD_132085377375</td>\n      <td></td>\n      <td>http://www.LOVD.nl/EYS</td>\n      <td></td>\n      <td>1</td>\n      <td>21555</td>\n      <td>346007</td>\n      <td>612424</td>\n      <td>1</td>\n      <td>1</td>\n      <td>1</td>\n      <td>1</td>\n      <td>&lt;font color=\\\"#FF0000\\\"&gt;This database is one o...</td>\n      <td></td>\n      <td>g</td>\n      <td>http://databases.lovd.nl/shared/refseq/EYS_NM_...</td>\n      <td>1</td>\n      <td></td>\n      <td>&lt;font color=\\\"#FF0000\\\"&gt;This database is one o...</td>\n      <td>-1</td>\n      <td></td>\n      <td>-1</td>\n      <td>00001</td>\n      <td>2012-02-13 00:00:00</td>\n      <td>00006</td>\n      <td>2023-08-30 13:08:19</td>\n      <td>00006</td>\n      <td>2024-05-31 11:42:04</td>\n    </tr>\n  </tbody>\n</table>\n</div>"
     },
     "metadata": {},
     "output_type": "display_data"
    },
    {
     "name": "stdout",
     "output_type": "stream",
     "text": [
      "Transcripts\n"
     ]
    },
    {
     "data": {
      "text/plain": "         id geneid  ... edited_by edited_date\n0  00007329    EYS  ...                      \n\n[1 rows x 19 columns]",
      "text/html": "<div>\n<style scoped>\n    .dataframe tbody tr th:only-of-type {\n        vertical-align: middle;\n    }\n\n    .dataframe tbody tr th {\n        vertical-align: top;\n    }\n\n    .dataframe thead th {\n        text-align: right;\n    }\n</style>\n<table border=\"1\" class=\"dataframe\">\n  <thead>\n    <tr style=\"text-align: right;\">\n      <th></th>\n      <th>id</th>\n      <th>geneid</th>\n      <th>name</th>\n      <th>id_mutalyzer</th>\n      <th>id_ncbi</th>\n      <th>id_ensembl</th>\n      <th>id_protein_ncbi</th>\n      <th>id_protein_ensembl</th>\n      <th>id_protein_uniprot</th>\n      <th>remarks</th>\n      <th>position_c_mrna_start</th>\n      <th>position_c_mrna_end</th>\n      <th>position_c_cds_end</th>\n      <th>position_g_mrna_start</th>\n      <th>position_g_mrna_end</th>\n      <th>created_by</th>\n      <th>created_date</th>\n      <th>edited_by</th>\n      <th>edited_date</th>\n    </tr>\n  </thead>\n  <tbody>\n    <tr>\n      <th>0</th>\n      <td>00007329</td>\n      <td>EYS</td>\n      <td>transcript variant 1</td>\n      <td>001</td>\n      <td>NM_001142800.1</td>\n      <td></td>\n      <td>NP_001136272.1</td>\n      <td></td>\n      <td></td>\n      <td></td>\n      <td>-538</td>\n      <td>10051</td>\n      <td>9435</td>\n      <td>66417118</td>\n      <td>64429876</td>\n      <td></td>\n      <td>0000-00-00 00:00:00</td>\n      <td></td>\n      <td></td>\n    </tr>\n  </tbody>\n</table>\n</div>"
     },
     "metadata": {},
     "output_type": "display_data"
    },
    {
     "name": "stdout",
     "output_type": "stream",
     "text": [
      "Diseases\n"
     ]
    },
    {
     "data": {
      "text/plain": "       id             symbol  ... edited_by          edited_date\n0   00012              PSORS  ...     00006  2019-08-12 13:38:21\n1   00058               CORD  ...     00006  2020-08-30 09:43:59\n2   00112                 RP  ...     00006  2021-01-18 09:53:26\n3   00139                 ID  ...     00006  2015-02-09 10:02:49\n4   00173               SLOS  ...     00006  2021-12-10 21:51:32\n5   00198                  ?  ...     00006  2016-10-22 17:54:40\n6   02156                  -  ...     00006  2021-12-10 21:51:32\n7   02440               RP25  ...     00006  2021-12-10 21:51:32\n8   04211               RPar  ...                               \n9   04214                  -  ...     00001  2023-03-09 14:26:26\n10  04249  macular dystrophy  ...     00006  2024-02-15 21:18:39\n11  05086                 HL  ...     00006  2015-10-23 11:43:00\n12  05415                USH  ...                               \n13  05468            uveitis  ...                               \n14  06906                DEE  ...                               \n\n[15 rows x 12 columns]",
      "text/html": "<div>\n<style scoped>\n    .dataframe tbody tr th:only-of-type {\n        vertical-align: middle;\n    }\n\n    .dataframe tbody tr th {\n        vertical-align: top;\n    }\n\n    .dataframe thead th {\n        text-align: right;\n    }\n</style>\n<table border=\"1\" class=\"dataframe\">\n  <thead>\n    <tr style=\"text-align: right;\">\n      <th></th>\n      <th>id</th>\n      <th>symbol</th>\n      <th>name</th>\n      <th>inheritance</th>\n      <th>id_omim</th>\n      <th>tissues</th>\n      <th>features</th>\n      <th>remarks</th>\n      <th>created_by</th>\n      <th>created_date</th>\n      <th>edited_by</th>\n      <th>edited_date</th>\n    </tr>\n  </thead>\n  <tbody>\n    <tr>\n      <th>0</th>\n      <td>00012</td>\n      <td>PSORS</td>\n      <td>psoriasis, pustular, generalized (PSORS)</td>\n      <td></td>\n      <td></td>\n      <td></td>\n      <td></td>\n      <td></td>\n      <td>00006</td>\n      <td>2012-07-06 21:50:32</td>\n      <td>00006</td>\n      <td>2019-08-12 13:38:21</td>\n    </tr>\n    <tr>\n      <th>1</th>\n      <td>00058</td>\n      <td>CORD</td>\n      <td>dystrophy, cone-rod (CORD)</td>\n      <td></td>\n      <td></td>\n      <td></td>\n      <td></td>\n      <td></td>\n      <td>00006</td>\n      <td>2012-09-22 11:31:25</td>\n      <td>00006</td>\n      <td>2020-08-30 09:43:59</td>\n    </tr>\n    <tr>\n      <th>2</th>\n      <td>00112</td>\n      <td>RP</td>\n      <td>retinitis pigmentosa (RP)</td>\n      <td></td>\n      <td>268000</td>\n      <td></td>\n      <td></td>\n      <td></td>\n      <td>00001</td>\n      <td>2013-02-21 17:12:36</td>\n      <td>00006</td>\n      <td>2021-01-18 09:53:26</td>\n    </tr>\n    <tr>\n      <th>3</th>\n      <td>00139</td>\n      <td>ID</td>\n      <td>intellectual disability (ID)</td>\n      <td></td>\n      <td></td>\n      <td></td>\n      <td></td>\n      <td></td>\n      <td>00084</td>\n      <td>2013-06-04 18:18:07</td>\n      <td>00006</td>\n      <td>2015-02-09 10:02:49</td>\n    </tr>\n    <tr>\n      <th>4</th>\n      <td>00173</td>\n      <td>SLOS</td>\n      <td>Smith-Lemli-Opitz syndrome (SLOS)</td>\n      <td>AR</td>\n      <td>270400</td>\n      <td></td>\n      <td></td>\n      <td></td>\n      <td>00006</td>\n      <td>2013-08-01 11:16:14</td>\n      <td>00006</td>\n      <td>2021-12-10 21:51:32</td>\n    </tr>\n    <tr>\n      <th>5</th>\n      <td>00198</td>\n      <td>?</td>\n      <td>unclassified / mixed</td>\n      <td></td>\n      <td></td>\n      <td></td>\n      <td></td>\n      <td></td>\n      <td>00006</td>\n      <td>2013-09-13 14:21:47</td>\n      <td>00006</td>\n      <td>2016-10-22 17:54:40</td>\n    </tr>\n    <tr>\n      <th>6</th>\n      <td>02156</td>\n      <td>-</td>\n      <td>retinitis pigmentosa, X-linked, and sinorespir...</td>\n      <td></td>\n      <td>300455</td>\n      <td></td>\n      <td></td>\n      <td></td>\n      <td>00006</td>\n      <td>2014-09-25 23:29:40</td>\n      <td>00006</td>\n      <td>2021-12-10 21:51:32</td>\n    </tr>\n    <tr>\n      <th>7</th>\n      <td>02440</td>\n      <td>RP25</td>\n      <td>retinitis pigmentosa, type 25 (RP25)</td>\n      <td>AR</td>\n      <td>602772</td>\n      <td></td>\n      <td></td>\n      <td></td>\n      <td>00006</td>\n      <td>2014-09-25 23:29:40</td>\n      <td>00006</td>\n      <td>2021-12-10 21:51:32</td>\n    </tr>\n    <tr>\n      <th>8</th>\n      <td>04211</td>\n      <td>RPar</td>\n      <td>retinitis pigmentosa, autosomal recessive (RPar)</td>\n      <td></td>\n      <td></td>\n      <td></td>\n      <td></td>\n      <td></td>\n      <td>00006</td>\n      <td>2015-02-27 18:58:57</td>\n      <td></td>\n      <td></td>\n    </tr>\n    <tr>\n      <th>9</th>\n      <td>04214</td>\n      <td>-</td>\n      <td>retinal disease</td>\n      <td></td>\n      <td></td>\n      <td></td>\n      <td></td>\n      <td></td>\n      <td>00006</td>\n      <td>2015-02-27 19:48:07</td>\n      <td>00001</td>\n      <td>2023-03-09 14:26:26</td>\n    </tr>\n    <tr>\n      <th>10</th>\n      <td>04249</td>\n      <td>macular dystrophy</td>\n      <td>dystrophy, macular</td>\n      <td></td>\n      <td></td>\n      <td></td>\n      <td></td>\n      <td></td>\n      <td>00006</td>\n      <td>2015-05-04 22:10:58</td>\n      <td>00006</td>\n      <td>2024-02-15 21:18:39</td>\n    </tr>\n    <tr>\n      <th>11</th>\n      <td>05086</td>\n      <td>HL</td>\n      <td>hearing loss (HL)</td>\n      <td></td>\n      <td></td>\n      <td></td>\n      <td></td>\n      <td></td>\n      <td>00006</td>\n      <td>2015-10-23 11:41:05</td>\n      <td>00006</td>\n      <td>2015-10-23 11:43:00</td>\n    </tr>\n    <tr>\n      <th>12</th>\n      <td>05415</td>\n      <td>USH</td>\n      <td>Usher syndrome (USH)</td>\n      <td></td>\n      <td></td>\n      <td></td>\n      <td></td>\n      <td></td>\n      <td>00006</td>\n      <td>2018-04-02 16:40:44</td>\n      <td></td>\n      <td></td>\n    </tr>\n    <tr>\n      <th>13</th>\n      <td>05468</td>\n      <td>uveitis</td>\n      <td>uveitis</td>\n      <td></td>\n      <td></td>\n      <td></td>\n      <td></td>\n      <td></td>\n      <td>00006</td>\n      <td>2018-08-22 09:47:04</td>\n      <td></td>\n      <td></td>\n    </tr>\n    <tr>\n      <th>14</th>\n      <td>06906</td>\n      <td>DEE</td>\n      <td>encephalopathy, developmental and epileptic</td>\n      <td></td>\n      <td></td>\n      <td></td>\n      <td></td>\n      <td></td>\n      <td>00006</td>\n      <td>2022-04-07 09:24:23</td>\n      <td></td>\n      <td></td>\n    </tr>\n  </tbody>\n</table>\n</div>"
     },
     "metadata": {},
     "output_type": "display_data"
    },
    {
     "name": "stdout",
     "output_type": "stream",
     "text": [
      "Genes_To_Diseases\n"
     ]
    },
    {
     "data": {
      "text/plain": "  geneid diseaseid\n0    EYS     00112\n1    EYS     02440",
      "text/html": "<div>\n<style scoped>\n    .dataframe tbody tr th:only-of-type {\n        vertical-align: middle;\n    }\n\n    .dataframe tbody tr th {\n        vertical-align: top;\n    }\n\n    .dataframe thead th {\n        text-align: right;\n    }\n</style>\n<table border=\"1\" class=\"dataframe\">\n  <thead>\n    <tr style=\"text-align: right;\">\n      <th></th>\n      <th>geneid</th>\n      <th>diseaseid</th>\n    </tr>\n  </thead>\n  <tbody>\n    <tr>\n      <th>0</th>\n      <td>EYS</td>\n      <td>00112</td>\n    </tr>\n    <tr>\n      <th>1</th>\n      <td>EYS</td>\n      <td>02440</td>\n    </tr>\n  </tbody>\n</table>\n</div>"
     },
     "metadata": {},
     "output_type": "display_data"
    },
    {
     "name": "stdout",
     "output_type": "stream",
     "text": [
      "Individuals\n"
     ]
    },
    {
     "data": {
      "text/plain": "            id fatherid  ... Individual/Origin/Population Individual/Individual_ID\n0     00000135           ...                                                      \n1     00000210           ...                                                      \n2     00001962           ...                        white                         \n3     00016605           ...                                                      \n4     00033096           ...                                                      \n...        ...      ...  ...                          ...                      ...\n1460  00451166           ...                                                071788\n1461  00451252           ...                                                072857\n1462  00451259           ...                                                073069\n1463  00451333           ...                                                075139\n1464  00451348           ...                                                080622\n\n[1465 rows x 18 columns]",
      "text/html": "<div>\n<style scoped>\n    .dataframe tbody tr th:only-of-type {\n        vertical-align: middle;\n    }\n\n    .dataframe tbody tr th {\n        vertical-align: top;\n    }\n\n    .dataframe thead th {\n        text-align: right;\n    }\n</style>\n<table border=\"1\" class=\"dataframe\">\n  <thead>\n    <tr style=\"text-align: right;\">\n      <th></th>\n      <th>id</th>\n      <th>fatherid</th>\n      <th>motherid</th>\n      <th>panelid</th>\n      <th>panel_size</th>\n      <th>license</th>\n      <th>owned_by</th>\n      <th>Individual/Reference</th>\n      <th>Individual/Remarks</th>\n      <th>Individual/Gender</th>\n      <th>Individual/Consanguinity</th>\n      <th>Individual/Origin/Geographic</th>\n      <th>Individual/Age_of_death</th>\n      <th>Individual/VIP</th>\n      <th>Individual/Data_av</th>\n      <th>Individual/Treatment</th>\n      <th>Individual/Origin/Population</th>\n      <th>Individual/Individual_ID</th>\n    </tr>\n  </thead>\n  <tbody>\n    <tr>\n      <th>0</th>\n      <td>00000135</td>\n      <td></td>\n      <td></td>\n      <td></td>\n      <td>3</td>\n      <td></td>\n      <td>00006</td>\n      <td>{PMID:Marrakchi 2011:21848462}</td>\n      <td>5-generation family, 3 affecteds (M)</td>\n      <td>M</td>\n      <td>yes</td>\n      <td>Tunisia</td>\n      <td></td>\n      <td></td>\n      <td></td>\n      <td></td>\n      <td></td>\n      <td></td>\n    </tr>\n    <tr>\n      <th>1</th>\n      <td>00000210</td>\n      <td></td>\n      <td></td>\n      <td></td>\n      <td>1</td>\n      <td></td>\n      <td>00039</td>\n      <td>{PMID:Abu-Safieh-2013:23105016}</td>\n      <td></td>\n      <td></td>\n      <td></td>\n      <td>(Saudi Arabia)</td>\n      <td></td>\n      <td></td>\n      <td></td>\n      <td></td>\n      <td></td>\n      <td></td>\n    </tr>\n    <tr>\n      <th>2</th>\n      <td>00001962</td>\n      <td></td>\n      <td></td>\n      <td></td>\n      <td>1</td>\n      <td></td>\n      <td>00025</td>\n      <td></td>\n      <td></td>\n      <td>M</td>\n      <td>?</td>\n      <td>Germany</td>\n      <td></td>\n      <td></td>\n      <td></td>\n      <td></td>\n      <td>white</td>\n      <td></td>\n    </tr>\n    <tr>\n      <th>3</th>\n      <td>00016605</td>\n      <td></td>\n      <td></td>\n      <td></td>\n      <td>1</td>\n      <td></td>\n      <td>00552</td>\n      <td></td>\n      <td></td>\n      <td></td>\n      <td></td>\n      <td></td>\n      <td></td>\n      <td>0</td>\n      <td></td>\n      <td></td>\n      <td></td>\n      <td></td>\n    </tr>\n    <tr>\n      <th>4</th>\n      <td>00033096</td>\n      <td></td>\n      <td></td>\n      <td></td>\n      <td>1</td>\n      <td></td>\n      <td>00229</td>\n      <td>{PMID:Neveling 2012:22334370}</td>\n      <td></td>\n      <td>M</td>\n      <td>no</td>\n      <td></td>\n      <td></td>\n      <td>0</td>\n      <td></td>\n      <td></td>\n      <td></td>\n      <td></td>\n    </tr>\n    <tr>\n      <th>...</th>\n      <td>...</td>\n      <td>...</td>\n      <td>...</td>\n      <td>...</td>\n      <td>...</td>\n      <td>...</td>\n      <td>...</td>\n      <td>...</td>\n      <td>...</td>\n      <td>...</td>\n      <td>...</td>\n      <td>...</td>\n      <td>...</td>\n      <td>...</td>\n      <td>...</td>\n      <td>...</td>\n      <td>...</td>\n      <td>...</td>\n    </tr>\n    <tr>\n      <th>1460</th>\n      <td>00451166</td>\n      <td></td>\n      <td></td>\n      <td></td>\n      <td>1</td>\n      <td></td>\n      <td>00006</td>\n      <td>{PMID:Hitti-Malin 2024:38540785}, {DOI:Hitti-M...</td>\n      <td></td>\n      <td></td>\n      <td></td>\n      <td></td>\n      <td></td>\n      <td>0</td>\n      <td></td>\n      <td></td>\n      <td></td>\n      <td>071788</td>\n    </tr>\n    <tr>\n      <th>1461</th>\n      <td>00451252</td>\n      <td></td>\n      <td></td>\n      <td></td>\n      <td>1</td>\n      <td></td>\n      <td>00006</td>\n      <td>{PMID:Hitti-Malin 2024:38540785}, {DOI:Hitti-M...</td>\n      <td></td>\n      <td></td>\n      <td></td>\n      <td></td>\n      <td></td>\n      <td>0</td>\n      <td></td>\n      <td></td>\n      <td></td>\n      <td>072857</td>\n    </tr>\n    <tr>\n      <th>1462</th>\n      <td>00451259</td>\n      <td></td>\n      <td></td>\n      <td></td>\n      <td>1</td>\n      <td></td>\n      <td>00006</td>\n      <td>{PMID:Hitti-Malin 2024:38540785}, {DOI:Hitti-M...</td>\n      <td></td>\n      <td></td>\n      <td></td>\n      <td></td>\n      <td></td>\n      <td>0</td>\n      <td></td>\n      <td></td>\n      <td></td>\n      <td>073069</td>\n    </tr>\n    <tr>\n      <th>1463</th>\n      <td>00451333</td>\n      <td></td>\n      <td></td>\n      <td></td>\n      <td>1</td>\n      <td></td>\n      <td>00006</td>\n      <td>{PMID:Hitti-Malin 2024:38540785}, {DOI:Hitti-M...</td>\n      <td></td>\n      <td></td>\n      <td></td>\n      <td></td>\n      <td></td>\n      <td>0</td>\n      <td></td>\n      <td></td>\n      <td></td>\n      <td>075139</td>\n    </tr>\n    <tr>\n      <th>1464</th>\n      <td>00451348</td>\n      <td></td>\n      <td></td>\n      <td></td>\n      <td>1</td>\n      <td></td>\n      <td>00006</td>\n      <td>{PMID:Hitti-Malin 2024:38540785}, {DOI:Hitti-M...</td>\n      <td></td>\n      <td></td>\n      <td></td>\n      <td></td>\n      <td></td>\n      <td>0</td>\n      <td></td>\n      <td></td>\n      <td></td>\n      <td>080622</td>\n    </tr>\n  </tbody>\n</table>\n<p>1465 rows × 18 columns</p>\n</div>"
     },
     "metadata": {},
     "output_type": "display_data"
    },
    {
     "name": "stdout",
     "output_type": "stream",
     "text": [
      "Individuals_To_Diseases\n"
     ]
    },
    {
     "data": {
      "text/plain": "     individualid diseaseid\n0        00000135     00012\n1        00000210     00058\n2        00001962     00173\n3        00033096     04214\n4        00033109     04214\n...           ...       ...\n1459     00451166     04249\n1460     00451252     04249\n1461     00451259     04249\n1462     00451333     04249\n1463     00451348     04249\n\n[1464 rows x 2 columns]",
      "text/html": "<div>\n<style scoped>\n    .dataframe tbody tr th:only-of-type {\n        vertical-align: middle;\n    }\n\n    .dataframe tbody tr th {\n        vertical-align: top;\n    }\n\n    .dataframe thead th {\n        text-align: right;\n    }\n</style>\n<table border=\"1\" class=\"dataframe\">\n  <thead>\n    <tr style=\"text-align: right;\">\n      <th></th>\n      <th>individualid</th>\n      <th>diseaseid</th>\n    </tr>\n  </thead>\n  <tbody>\n    <tr>\n      <th>0</th>\n      <td>00000135</td>\n      <td>00012</td>\n    </tr>\n    <tr>\n      <th>1</th>\n      <td>00000210</td>\n      <td>00058</td>\n    </tr>\n    <tr>\n      <th>2</th>\n      <td>00001962</td>\n      <td>00173</td>\n    </tr>\n    <tr>\n      <th>3</th>\n      <td>00033096</td>\n      <td>04214</td>\n    </tr>\n    <tr>\n      <th>4</th>\n      <td>00033109</td>\n      <td>04214</td>\n    </tr>\n    <tr>\n      <th>...</th>\n      <td>...</td>\n      <td>...</td>\n    </tr>\n    <tr>\n      <th>1459</th>\n      <td>00451166</td>\n      <td>04249</td>\n    </tr>\n    <tr>\n      <th>1460</th>\n      <td>00451252</td>\n      <td>04249</td>\n    </tr>\n    <tr>\n      <th>1461</th>\n      <td>00451259</td>\n      <td>04249</td>\n    </tr>\n    <tr>\n      <th>1462</th>\n      <td>00451333</td>\n      <td>04249</td>\n    </tr>\n    <tr>\n      <th>1463</th>\n      <td>00451348</td>\n      <td>04249</td>\n    </tr>\n  </tbody>\n</table>\n<p>1464 rows × 2 columns</p>\n</div>"
     },
     "metadata": {},
     "output_type": "display_data"
    },
    {
     "name": "stdout",
     "output_type": "stream",
     "text": [
      "Phenotypes\n"
     ]
    },
    {
     "data": {
      "text/plain": "              id  ... Phenotype/Diagnosis/Criteria\n0     0000000008  ...                             \n1     0000000026  ...                             \n2     0000000941  ...                             \n3     0000026525  ...                             \n4     0000026538  ...                             \n...          ...  ...                          ...\n1272  0000339895  ...                             \n1273  0000339896  ...                             \n1274  0000339897  ...                             \n1275  0000339898  ...                             \n1276  0000339899  ...                             \n\n[1277 rows x 20 columns]",
      "text/html": "<div>\n<style scoped>\n    .dataframe tbody tr th:only-of-type {\n        vertical-align: middle;\n    }\n\n    .dataframe tbody tr th {\n        vertical-align: top;\n    }\n\n    .dataframe thead th {\n        text-align: right;\n    }\n</style>\n<table border=\"1\" class=\"dataframe\">\n  <thead>\n    <tr style=\"text-align: right;\">\n      <th></th>\n      <th>id</th>\n      <th>diseaseid</th>\n      <th>individualid</th>\n      <th>owned_by</th>\n      <th>Phenotype/Inheritance</th>\n      <th>Phenotype/Age</th>\n      <th>Phenotype/Additional</th>\n      <th>Phenotype/Biochem_param</th>\n      <th>Phenotype/Age/Onset</th>\n      <th>Phenotype/Age/Diagnosis</th>\n      <th>Phenotype/Severity_score</th>\n      <th>Phenotype/Onset</th>\n      <th>Phenotype/Protein</th>\n      <th>Phenotype/Tumor/MSI</th>\n      <th>Phenotype/Enzyme/CPK</th>\n      <th>Phenotype/Heart/Myocardium</th>\n      <th>Phenotype/Lung</th>\n      <th>Phenotype/Diagnosis/Definite</th>\n      <th>Phenotype/Diagnosis/Initial</th>\n      <th>Phenotype/Diagnosis/Criteria</th>\n    </tr>\n  </thead>\n  <tbody>\n    <tr>\n      <th>0</th>\n      <td>0000000008</td>\n      <td>00012</td>\n      <td>00000135</td>\n      <td>00006</td>\n      <td>Familial, autosomal recessive</td>\n      <td></td>\n      <td></td>\n      <td></td>\n      <td></td>\n      <td></td>\n      <td></td>\n      <td></td>\n      <td></td>\n      <td></td>\n      <td></td>\n      <td></td>\n      <td></td>\n      <td></td>\n      <td></td>\n      <td></td>\n    </tr>\n    <tr>\n      <th>1</th>\n      <td>0000000026</td>\n      <td>00058</td>\n      <td>00000210</td>\n      <td>00039</td>\n      <td>Familial, autosomal recessive</td>\n      <td></td>\n      <td></td>\n      <td></td>\n      <td></td>\n      <td></td>\n      <td></td>\n      <td></td>\n      <td></td>\n      <td></td>\n      <td></td>\n      <td></td>\n      <td></td>\n      <td></td>\n      <td></td>\n      <td></td>\n    </tr>\n    <tr>\n      <th>2</th>\n      <td>0000000941</td>\n      <td>00173</td>\n      <td>00001962</td>\n      <td>00025</td>\n      <td>Familial</td>\n      <td></td>\n      <td>2-3 toe syndactyly</td>\n      <td></td>\n      <td></td>\n      <td></td>\n      <td>5</td>\n      <td></td>\n      <td></td>\n      <td></td>\n      <td></td>\n      <td></td>\n      <td></td>\n      <td></td>\n      <td></td>\n      <td></td>\n    </tr>\n    <tr>\n      <th>3</th>\n      <td>0000026525</td>\n      <td>04214</td>\n      <td>00033096</td>\n      <td>00229</td>\n      <td>Unknown</td>\n      <td></td>\n      <td></td>\n      <td></td>\n      <td></td>\n      <td></td>\n      <td></td>\n      <td></td>\n      <td></td>\n      <td></td>\n      <td></td>\n      <td></td>\n      <td></td>\n      <td></td>\n      <td>retinitis pigmentosa</td>\n      <td></td>\n    </tr>\n    <tr>\n      <th>4</th>\n      <td>0000026538</td>\n      <td>04214</td>\n      <td>00033109</td>\n      <td>00229</td>\n      <td>Unknown</td>\n      <td></td>\n      <td></td>\n      <td></td>\n      <td></td>\n      <td></td>\n      <td></td>\n      <td></td>\n      <td></td>\n      <td></td>\n      <td></td>\n      <td></td>\n      <td></td>\n      <td></td>\n      <td>retinitis pigmentosa</td>\n      <td></td>\n    </tr>\n    <tr>\n      <th>...</th>\n      <td>...</td>\n      <td>...</td>\n      <td>...</td>\n      <td>...</td>\n      <td>...</td>\n      <td>...</td>\n      <td>...</td>\n      <td>...</td>\n      <td>...</td>\n      <td>...</td>\n      <td>...</td>\n      <td>...</td>\n      <td>...</td>\n      <td>...</td>\n      <td>...</td>\n      <td>...</td>\n      <td>...</td>\n      <td>...</td>\n      <td>...</td>\n      <td>...</td>\n    </tr>\n    <tr>\n      <th>1272</th>\n      <td>0000339895</td>\n      <td>04249</td>\n      <td>00450840</td>\n      <td>04405</td>\n      <td>Unknown</td>\n      <td></td>\n      <td></td>\n      <td></td>\n      <td></td>\n      <td></td>\n      <td></td>\n      <td></td>\n      <td></td>\n      <td></td>\n      <td></td>\n      <td></td>\n      <td></td>\n      <td></td>\n      <td>Stargardt disease</td>\n      <td></td>\n    </tr>\n    <tr>\n      <th>1273</th>\n      <td>0000339896</td>\n      <td>04249</td>\n      <td>00450841</td>\n      <td>04405</td>\n      <td>Unknown</td>\n      <td></td>\n      <td></td>\n      <td></td>\n      <td></td>\n      <td></td>\n      <td></td>\n      <td></td>\n      <td></td>\n      <td></td>\n      <td></td>\n      <td></td>\n      <td></td>\n      <td></td>\n      <td>Stargardt disease</td>\n      <td></td>\n    </tr>\n    <tr>\n      <th>1274</th>\n      <td>0000339897</td>\n      <td>04249</td>\n      <td>00450842</td>\n      <td>04405</td>\n      <td>Unknown</td>\n      <td></td>\n      <td></td>\n      <td></td>\n      <td></td>\n      <td></td>\n      <td></td>\n      <td></td>\n      <td></td>\n      <td></td>\n      <td></td>\n      <td></td>\n      <td></td>\n      <td></td>\n      <td>cone-rod dystrophy</td>\n      <td></td>\n    </tr>\n    <tr>\n      <th>1275</th>\n      <td>0000339898</td>\n      <td>04249</td>\n      <td>00450843</td>\n      <td>04405</td>\n      <td>Unknown</td>\n      <td></td>\n      <td></td>\n      <td></td>\n      <td></td>\n      <td></td>\n      <td></td>\n      <td></td>\n      <td></td>\n      <td></td>\n      <td></td>\n      <td></td>\n      <td></td>\n      <td></td>\n      <td>Stargardt disease</td>\n      <td></td>\n    </tr>\n    <tr>\n      <th>1276</th>\n      <td>0000339899</td>\n      <td>04249</td>\n      <td>00450844</td>\n      <td>04405</td>\n      <td>Unknown</td>\n      <td></td>\n      <td></td>\n      <td></td>\n      <td></td>\n      <td></td>\n      <td></td>\n      <td></td>\n      <td></td>\n      <td></td>\n      <td></td>\n      <td></td>\n      <td></td>\n      <td></td>\n      <td>macular dystrophy</td>\n      <td></td>\n    </tr>\n  </tbody>\n</table>\n<p>1277 rows × 20 columns</p>\n</div>"
     },
     "metadata": {},
     "output_type": "display_data"
    },
    {
     "name": "stdout",
     "output_type": "stream",
     "text": [
      "Screenings\n"
     ]
    },
    {
     "data": {
      "text/plain": "              id individualid  ... Screening/Tissue              Screening/Remarks\n0     0000000126     00000135  ...                                                \n1     0000000211     00000210  ...                                                \n2     0000001640     00001962  ...                                                \n3     0000016557     00016605  ...                                                \n4     0000033164     00033096  ...                                                \n...          ...          ...  ...              ...                            ...\n1460  0000452765     00451166  ...                   smMIP-based 105 iMD/AMD genes\n1461  0000452851     00451252  ...                   smMIP-based 105 iMD/AMD genes\n1462  0000452858     00451259  ...                   smMIP-based 105 iMD/AMD genes\n1463  0000452932     00451333  ...                   smMIP-based 105 iMD/AMD genes\n1464  0000452947     00451348  ...                   smMIP-based 105 iMD/AMD genes\n\n[1465 rows x 12 columns]",
      "text/html": "<div>\n<style scoped>\n    .dataframe tbody tr th:only-of-type {\n        vertical-align: middle;\n    }\n\n    .dataframe tbody tr th {\n        vertical-align: top;\n    }\n\n    .dataframe thead th {\n        text-align: right;\n    }\n</style>\n<table border=\"1\" class=\"dataframe\">\n  <thead>\n    <tr style=\"text-align: right;\">\n      <th></th>\n      <th>id</th>\n      <th>individualid</th>\n      <th>variants_found</th>\n      <th>owned_by</th>\n      <th>created_by</th>\n      <th>created_date</th>\n      <th>edited_by</th>\n      <th>edited_date</th>\n      <th>Screening/Technique</th>\n      <th>Screening/Template</th>\n      <th>Screening/Tissue</th>\n      <th>Screening/Remarks</th>\n    </tr>\n  </thead>\n  <tbody>\n    <tr>\n      <th>0</th>\n      <td>0000000126</td>\n      <td>00000135</td>\n      <td>1</td>\n      <td>00006</td>\n      <td>00006</td>\n      <td>2012-07-07 19:04:19</td>\n      <td>00006</td>\n      <td>2012-07-07 19:12:08</td>\n      <td>RT-PCR;SEQ</td>\n      <td>DNA;RNA</td>\n      <td></td>\n      <td></td>\n    </tr>\n    <tr>\n      <th>1</th>\n      <td>0000000211</td>\n      <td>00000210</td>\n      <td>1</td>\n      <td>00039</td>\n      <td>00006</td>\n      <td>2012-09-22 11:36:24</td>\n      <td></td>\n      <td></td>\n      <td>SEQ</td>\n      <td>DNA</td>\n      <td></td>\n      <td></td>\n    </tr>\n    <tr>\n      <th>2</th>\n      <td>0000001640</td>\n      <td>00001962</td>\n      <td>1</td>\n      <td>00025</td>\n      <td>00006</td>\n      <td>2010-03-11 16:36:41</td>\n      <td>00025</td>\n      <td>2012-04-13 15:18:00</td>\n      <td>SEQ</td>\n      <td>DNA</td>\n      <td></td>\n      <td></td>\n    </tr>\n    <tr>\n      <th>3</th>\n      <td>0000016557</td>\n      <td>00016605</td>\n      <td>1</td>\n      <td>00552</td>\n      <td>00552</td>\n      <td>2014-05-23 13:12:43</td>\n      <td></td>\n      <td></td>\n      <td>SEQ-NG-I</td>\n      <td>DNA</td>\n      <td></td>\n      <td></td>\n    </tr>\n    <tr>\n      <th>4</th>\n      <td>0000033164</td>\n      <td>00033096</td>\n      <td>1</td>\n      <td>00229</td>\n      <td>00229</td>\n      <td>2012-02-04 15:20:01</td>\n      <td>00006</td>\n      <td>2012-05-18 13:59:33</td>\n      <td>SEQ;SEQ-NG-S</td>\n      <td>DNA</td>\n      <td></td>\n      <td></td>\n    </tr>\n    <tr>\n      <th>...</th>\n      <td>...</td>\n      <td>...</td>\n      <td>...</td>\n      <td>...</td>\n      <td>...</td>\n      <td>...</td>\n      <td>...</td>\n      <td>...</td>\n      <td>...</td>\n      <td>...</td>\n      <td>...</td>\n      <td>...</td>\n    </tr>\n    <tr>\n      <th>1460</th>\n      <td>0000452765</td>\n      <td>00451166</td>\n      <td>1</td>\n      <td>00006</td>\n      <td>00006</td>\n      <td>2024-05-31 11:39:36</td>\n      <td></td>\n      <td></td>\n      <td>SEQ</td>\n      <td>DNA</td>\n      <td></td>\n      <td>smMIP-based 105 iMD/AMD genes</td>\n    </tr>\n    <tr>\n      <th>1461</th>\n      <td>0000452851</td>\n      <td>00451252</td>\n      <td>1</td>\n      <td>00006</td>\n      <td>00006</td>\n      <td>2024-05-31 11:39:36</td>\n      <td></td>\n      <td></td>\n      <td>SEQ</td>\n      <td>DNA</td>\n      <td></td>\n      <td>smMIP-based 105 iMD/AMD genes</td>\n    </tr>\n    <tr>\n      <th>1462</th>\n      <td>0000452858</td>\n      <td>00451259</td>\n      <td>1</td>\n      <td>00006</td>\n      <td>00006</td>\n      <td>2024-05-31 11:39:36</td>\n      <td></td>\n      <td></td>\n      <td>SEQ</td>\n      <td>DNA</td>\n      <td></td>\n      <td>smMIP-based 105 iMD/AMD genes</td>\n    </tr>\n    <tr>\n      <th>1463</th>\n      <td>0000452932</td>\n      <td>00451333</td>\n      <td>1</td>\n      <td>00006</td>\n      <td>00006</td>\n      <td>2024-05-31 11:39:36</td>\n      <td></td>\n      <td></td>\n      <td>SEQ</td>\n      <td>DNA</td>\n      <td></td>\n      <td>smMIP-based 105 iMD/AMD genes</td>\n    </tr>\n    <tr>\n      <th>1464</th>\n      <td>0000452947</td>\n      <td>00451348</td>\n      <td>1</td>\n      <td>00006</td>\n      <td>00006</td>\n      <td>2024-05-31 11:39:36</td>\n      <td></td>\n      <td></td>\n      <td>SEQ</td>\n      <td>DNA</td>\n      <td></td>\n      <td>smMIP-based 105 iMD/AMD genes</td>\n    </tr>\n  </tbody>\n</table>\n<p>1465 rows × 12 columns</p>\n</div>"
     },
     "metadata": {},
     "output_type": "display_data"
    },
    {
     "name": "stdout",
     "output_type": "stream",
     "text": [
      "Screenings_To_Genes\n"
     ]
    },
    {
     "data": {
      "text/plain": "     screeningid  geneid\n0     0000000126  IL36RN\n1     0000000211    MKS1\n2     0000001640   DHCR7\n3     0000033164    AHI1\n4     0000033164     EYS\n...          ...     ...\n1311  0000437646     EYS\n1312  0000437902     EYS\n1313  0000437922     EYS\n1314  0000443144     EYS\n1315  0000443145     EYS\n\n[1316 rows x 2 columns]",
      "text/html": "<div>\n<style scoped>\n    .dataframe tbody tr th:only-of-type {\n        vertical-align: middle;\n    }\n\n    .dataframe tbody tr th {\n        vertical-align: top;\n    }\n\n    .dataframe thead th {\n        text-align: right;\n    }\n</style>\n<table border=\"1\" class=\"dataframe\">\n  <thead>\n    <tr style=\"text-align: right;\">\n      <th></th>\n      <th>screeningid</th>\n      <th>geneid</th>\n    </tr>\n  </thead>\n  <tbody>\n    <tr>\n      <th>0</th>\n      <td>0000000126</td>\n      <td>IL36RN</td>\n    </tr>\n    <tr>\n      <th>1</th>\n      <td>0000000211</td>\n      <td>MKS1</td>\n    </tr>\n    <tr>\n      <th>2</th>\n      <td>0000001640</td>\n      <td>DHCR7</td>\n    </tr>\n    <tr>\n      <th>3</th>\n      <td>0000033164</td>\n      <td>AHI1</td>\n    </tr>\n    <tr>\n      <th>4</th>\n      <td>0000033164</td>\n      <td>EYS</td>\n    </tr>\n    <tr>\n      <th>...</th>\n      <td>...</td>\n      <td>...</td>\n    </tr>\n    <tr>\n      <th>1311</th>\n      <td>0000437646</td>\n      <td>EYS</td>\n    </tr>\n    <tr>\n      <th>1312</th>\n      <td>0000437902</td>\n      <td>EYS</td>\n    </tr>\n    <tr>\n      <th>1313</th>\n      <td>0000437922</td>\n      <td>EYS</td>\n    </tr>\n    <tr>\n      <th>1314</th>\n      <td>0000443144</td>\n      <td>EYS</td>\n    </tr>\n    <tr>\n      <th>1315</th>\n      <td>0000443145</td>\n      <td>EYS</td>\n    </tr>\n  </tbody>\n</table>\n<p>1316 rows × 2 columns</p>\n</div>"
     },
     "metadata": {},
     "output_type": "display_data"
    },
    {
     "name": "stdout",
     "output_type": "stream",
     "text": [
      "Variants_On_Genome\n"
     ]
    },
    {
     "data": {
      "text/plain": "              id  ... VariantOnGenome/ClinicalClassification/Method\n0     0000036426  ...                                              \n1     0000059881  ...                                              \n2     0000059883  ...                                              \n3     0000059884  ...                                              \n4     0000059885  ...                                              \n...          ...  ...                                           ...\n2555  0000987292  ...                                          ACMG\n2556  0000987305  ...                                          ACMG\n2557  0000987318  ...                                          ACMG\n2558  0000987322  ...                                          ACMG\n2559  0000987333  ...                                          ACMG\n\n[2560 rows x 26 columns]",
      "text/html": "<div>\n<style scoped>\n    .dataframe tbody tr th:only-of-type {\n        vertical-align: middle;\n    }\n\n    .dataframe tbody tr th {\n        vertical-align: top;\n    }\n\n    .dataframe thead th {\n        text-align: right;\n    }\n</style>\n<table border=\"1\" class=\"dataframe\">\n  <thead>\n    <tr style=\"text-align: right;\">\n      <th></th>\n      <th>id</th>\n      <th>allele</th>\n      <th>effectid</th>\n      <th>chromosome</th>\n      <th>position_g_start</th>\n      <th>position_g_end</th>\n      <th>type</th>\n      <th>average_frequency</th>\n      <th>owned_by</th>\n      <th>VariantOnGenome/DBID</th>\n      <th>VariantOnGenome/DNA</th>\n      <th>VariantOnGenome/Frequency</th>\n      <th>VariantOnGenome/Reference</th>\n      <th>VariantOnGenome/Restriction_site</th>\n      <th>VariantOnGenome/Published_as</th>\n      <th>VariantOnGenome/Remarks</th>\n      <th>VariantOnGenome/Genetic_origin</th>\n      <th>VariantOnGenome/Segregation</th>\n      <th>VariantOnGenome/dbSNP</th>\n      <th>VariantOnGenome/VIP</th>\n      <th>VariantOnGenome/Methylation</th>\n      <th>VariantOnGenome/ISCN</th>\n      <th>VariantOnGenome/DNA/hg38</th>\n      <th>VariantOnGenome/ClinVar</th>\n      <th>VariantOnGenome/ClinicalClassification</th>\n      <th>VariantOnGenome/ClinicalClassification/Method</th>\n    </tr>\n  </thead>\n  <tbody>\n    <tr>\n      <th>0</th>\n      <td>0000036426</td>\n      <td>3</td>\n      <td>50</td>\n      <td>6</td>\n      <td>64498971</td>\n      <td>64498971</td>\n      <td>subst</td>\n      <td>0.000742922</td>\n      <td>00552</td>\n      <td>EYS_000007</td>\n      <td>g.64498971A&gt;G</td>\n      <td></td>\n      <td></td>\n      <td></td>\n      <td></td>\n      <td></td>\n      <td>Germline</td>\n      <td></td>\n      <td></td>\n      <td>0</td>\n      <td></td>\n      <td></td>\n      <td>g.63789078A&gt;G</td>\n      <td></td>\n      <td>VUS</td>\n      <td></td>\n    </tr>\n    <tr>\n      <th>1</th>\n      <td>0000059881</td>\n      <td>3</td>\n      <td>55</td>\n      <td>6</td>\n      <td>65655758</td>\n      <td>65655758</td>\n      <td>subst</td>\n      <td>0.00115297</td>\n      <td>00229</td>\n      <td>EYS_000001</td>\n      <td>g.65655758T&gt;G</td>\n      <td>ExAC: 60, 19750, 0, 0.003038</td>\n      <td>{PMID:Neveling 2012:22334370}</td>\n      <td></td>\n      <td>Q770P</td>\n      <td></td>\n      <td>Germline</td>\n      <td>yes</td>\n      <td></td>\n      <td>0</td>\n      <td></td>\n      <td></td>\n      <td>g.64945865T&gt;G</td>\n      <td></td>\n      <td>VUS</td>\n      <td></td>\n    </tr>\n    <tr>\n      <th>2</th>\n      <td>0000059883</td>\n      <td>1</td>\n      <td>11</td>\n      <td>6</td>\n      <td>65336143</td>\n      <td>65336143</td>\n      <td>subst</td>\n      <td>0.224189</td>\n      <td>00229</td>\n      <td>EYS_000002</td>\n      <td>g.65336143G&gt;A</td>\n      <td>ExAC: 3936, 19366, 441, 0.2032</td>\n      <td>{PMID:Neveling 2012:22334370}</td>\n      <td></td>\n      <td>p.?</td>\n      <td>unaffected brother also this variant homozygous</td>\n      <td>Germline</td>\n      <td>no</td>\n      <td></td>\n      <td>0</td>\n      <td></td>\n      <td></td>\n      <td>g.64626250G&gt;A</td>\n      <td></td>\n      <td>benign</td>\n      <td></td>\n    </tr>\n    <tr>\n      <th>3</th>\n      <td>0000059884</td>\n      <td>1</td>\n      <td>15</td>\n      <td>6</td>\n      <td>65300869</td>\n      <td>65300869</td>\n      <td>subst</td>\n      <td>0.000837928</td>\n      <td>00229</td>\n      <td>EYS_000003</td>\n      <td>g.65300869G&gt;A</td>\n      <td>ExAC: 12, 19406, 0, 0.0006184</td>\n      <td>{PMID:Neveling 2012:22334370}</td>\n      <td></td>\n      <td>(P1631S)</td>\n      <td>predicted benign, disease-related variant in o...</td>\n      <td>Germline</td>\n      <td></td>\n      <td></td>\n      <td>0</td>\n      <td></td>\n      <td></td>\n      <td>g.64590976G&gt;A</td>\n      <td></td>\n      <td>benign</td>\n      <td></td>\n    </tr>\n    <tr>\n      <th>4</th>\n      <td>0000059885</td>\n      <td>1</td>\n      <td>11</td>\n      <td>6</td>\n      <td>65016998</td>\n      <td>65016999</td>\n      <td>del</td>\n      <td>0</td>\n      <td>00229</td>\n      <td>EYS_000004</td>\n      <td>g.65016998_65016999del</td>\n      <td>ExAC: 9866, 18292, 921, 0.5394</td>\n      <td>{PMID:Neveling 2012:22334370}</td>\n      <td></td>\n      <td>6045-4_6045-3del</td>\n      <td>predicted benign</td>\n      <td>Germline</td>\n      <td>yes</td>\n      <td></td>\n      <td>0</td>\n      <td></td>\n      <td></td>\n      <td>g.64307105_64307106del</td>\n      <td></td>\n      <td>benign</td>\n      <td></td>\n    </tr>\n    <tr>\n      <th>...</th>\n      <td>...</td>\n      <td>...</td>\n      <td>...</td>\n      <td>...</td>\n      <td>...</td>\n      <td>...</td>\n      <td>...</td>\n      <td>...</td>\n      <td>...</td>\n      <td>...</td>\n      <td>...</td>\n      <td>...</td>\n      <td>...</td>\n      <td>...</td>\n      <td>...</td>\n      <td>...</td>\n      <td>...</td>\n      <td>...</td>\n      <td>...</td>\n      <td>...</td>\n      <td>...</td>\n      <td>...</td>\n      <td>...</td>\n      <td>...</td>\n      <td>...</td>\n      <td>...</td>\n    </tr>\n    <tr>\n      <th>2555</th>\n      <td>0000987292</td>\n      <td>0</td>\n      <td>70</td>\n      <td>6</td>\n      <td>64431111</td>\n      <td>64431111</td>\n      <td>subst</td>\n      <td>0</td>\n      <td>00006</td>\n      <td>EYS_000662</td>\n      <td>g.64431111C&gt;T</td>\n      <td></td>\n      <td>{PMID:Hitti-Malin 2024:38540785}, {DOI:Hitti-M...</td>\n      <td></td>\n      <td>c.8879G&gt;A (Cys2960Tyr)</td>\n      <td>case unsolved</td>\n      <td>Germline</td>\n      <td></td>\n      <td></td>\n      <td>0</td>\n      <td></td>\n      <td></td>\n      <td>g.63721215C&gt;T</td>\n      <td></td>\n      <td>likely pathogenic</td>\n      <td>ACMG</td>\n    </tr>\n    <tr>\n      <th>2556</th>\n      <td>0000987305</td>\n      <td>0</td>\n      <td>70</td>\n      <td>6</td>\n      <td>66115167</td>\n      <td>66115167</td>\n      <td>del</td>\n      <td>0</td>\n      <td>00006</td>\n      <td>EYS_000933</td>\n      <td>g.66115167del</td>\n      <td></td>\n      <td>{PMID:Hitti-Malin 2024:38540785}, {DOI:Hitti-M...</td>\n      <td></td>\n      <td></td>\n      <td>no variant 2nd chromosome, case unsolved</td>\n      <td>Germline</td>\n      <td></td>\n      <td></td>\n      <td>0</td>\n      <td></td>\n      <td></td>\n      <td>g.65405274del</td>\n      <td></td>\n      <td>likely pathogenic</td>\n      <td>ACMG</td>\n    </tr>\n    <tr>\n      <th>2557</th>\n      <td>0000987318</td>\n      <td>0</td>\n      <td>70</td>\n      <td>6</td>\n      <td>64431148</td>\n      <td>64431148</td>\n      <td>subst</td>\n      <td>3.95361E-5</td>\n      <td>00006</td>\n      <td>EYS_000067</td>\n      <td>g.64431148A&gt;G</td>\n      <td></td>\n      <td>{PMID:Hitti-Malin 2024:38540785}, {DOI:Hitti-M...</td>\n      <td></td>\n      <td></td>\n      <td>no variant 2nd chromosome, case unsolved</td>\n      <td>Germline</td>\n      <td></td>\n      <td></td>\n      <td>0</td>\n      <td></td>\n      <td></td>\n      <td>g.63721252A&gt;G</td>\n      <td></td>\n      <td>likely pathogenic</td>\n      <td>ACMG</td>\n    </tr>\n    <tr>\n      <th>2558</th>\n      <td>0000987322</td>\n      <td>0</td>\n      <td>90</td>\n      <td>6</td>\n      <td>64430626</td>\n      <td>64430629</td>\n      <td>del</td>\n      <td>0</td>\n      <td>00006</td>\n      <td>EYS_000045</td>\n      <td>g.64430626_64430629del</td>\n      <td></td>\n      <td>{PMID:Hitti-Malin 2024:38540785}, {DOI:Hitti-M...</td>\n      <td></td>\n      <td></td>\n      <td>no variant 2nd chromosome, case unsolved</td>\n      <td>Germline</td>\n      <td></td>\n      <td></td>\n      <td>0</td>\n      <td></td>\n      <td></td>\n      <td>g.63720730_63720733del</td>\n      <td></td>\n      <td>pathogenic</td>\n      <td>ACMG</td>\n    </tr>\n    <tr>\n      <th>2559</th>\n      <td>0000987333</td>\n      <td>0</td>\n      <td>90</td>\n      <td>6</td>\n      <td>64436477</td>\n      <td>64436477</td>\n      <td>del</td>\n      <td>1.349E-5</td>\n      <td>00006</td>\n      <td>EYS_000397</td>\n      <td>g.64436477del</td>\n      <td></td>\n      <td>{PMID:Hitti-Malin 2024:38540785}, {DOI:Hitti-M...</td>\n      <td></td>\n      <td></td>\n      <td>no variant 2nd chromosome, case unsolved</td>\n      <td>Germline</td>\n      <td></td>\n      <td></td>\n      <td>0</td>\n      <td></td>\n      <td></td>\n      <td>g.63726584del</td>\n      <td></td>\n      <td>pathogenic</td>\n      <td>ACMG</td>\n    </tr>\n  </tbody>\n</table>\n<p>2560 rows × 26 columns</p>\n</div>"
     },
     "metadata": {},
     "output_type": "display_data"
    },
    {
     "name": "stdout",
     "output_type": "stream",
     "text": [
      "Variants_On_Transcripts\n"
     ]
    },
    {
     "data": {
      "text/plain": "              id  ... VariantOnTranscript/Exon\n0     0000036426  ...                       38\n1     0000059881  ...                       15\n2     0000059883  ...                      22i\n3     0000059884  ...                       26\n4     0000059885  ...                      29i\n...          ...  ...                      ...\n2555  0000987292  ...                         \n2556  0000987305  ...                         \n2557  0000987318  ...                         \n2558  0000987322  ...                         \n2559  0000987333  ...                         \n\n[2560 rows x 11 columns]",
      "text/html": "<div>\n<style scoped>\n    .dataframe tbody tr th:only-of-type {\n        vertical-align: middle;\n    }\n\n    .dataframe tbody tr th {\n        vertical-align: top;\n    }\n\n    .dataframe thead th {\n        text-align: right;\n    }\n</style>\n<table border=\"1\" class=\"dataframe\">\n  <thead>\n    <tr style=\"text-align: right;\">\n      <th></th>\n      <th>id</th>\n      <th>transcriptid</th>\n      <th>effectid</th>\n      <th>position_c_start</th>\n      <th>position_c_start_intron</th>\n      <th>position_c_end</th>\n      <th>position_c_end_intron</th>\n      <th>VariantOnTranscript/DNA</th>\n      <th>VariantOnTranscript/RNA</th>\n      <th>VariantOnTranscript/Protein</th>\n      <th>VariantOnTranscript/Exon</th>\n    </tr>\n  </thead>\n  <tbody>\n    <tr>\n      <th>0</th>\n      <td>0000036426</td>\n      <td>00007329</td>\n      <td>50</td>\n      <td>7558</td>\n      <td>0</td>\n      <td>7558</td>\n      <td>0</td>\n      <td>c.7558T&gt;C</td>\n      <td>r.(?)</td>\n      <td>p.(Phe2520Leu)</td>\n      <td>38</td>\n    </tr>\n    <tr>\n      <th>1</th>\n      <td>0000059881</td>\n      <td>00007329</td>\n      <td>55</td>\n      <td>2309</td>\n      <td>0</td>\n      <td>2309</td>\n      <td>0</td>\n      <td>c.2309A&gt;C</td>\n      <td>r.(?)</td>\n      <td>p.(Gln770Pro)</td>\n      <td>15</td>\n    </tr>\n    <tr>\n      <th>2</th>\n      <td>0000059883</td>\n      <td>00007329</td>\n      <td>11</td>\n      <td>3444</td>\n      <td>-5</td>\n      <td>3444</td>\n      <td>-5</td>\n      <td>c.3444-5C&gt;T</td>\n      <td>r.(?)</td>\n      <td>p.(=)</td>\n      <td>22i</td>\n    </tr>\n    <tr>\n      <th>3</th>\n      <td>0000059884</td>\n      <td>00007329</td>\n      <td>15</td>\n      <td>4891</td>\n      <td>0</td>\n      <td>4891</td>\n      <td>0</td>\n      <td>c.4891C&gt;T</td>\n      <td>r.(?)</td>\n      <td>p.(Pro1631Ser)</td>\n      <td>26</td>\n    </tr>\n    <tr>\n      <th>4</th>\n      <td>0000059885</td>\n      <td>00007329</td>\n      <td>11</td>\n      <td>6079</td>\n      <td>-4</td>\n      <td>6079</td>\n      <td>-3</td>\n      <td>c.6079-4_6079-3del</td>\n      <td>r.(?)</td>\n      <td>p.(=)</td>\n      <td>29i</td>\n    </tr>\n    <tr>\n      <th>...</th>\n      <td>...</td>\n      <td>...</td>\n      <td>...</td>\n      <td>...</td>\n      <td>...</td>\n      <td>...</td>\n      <td>...</td>\n      <td>...</td>\n      <td>...</td>\n      <td>...</td>\n      <td>...</td>\n    </tr>\n    <tr>\n      <th>2555</th>\n      <td>0000987292</td>\n      <td>00007329</td>\n      <td>70</td>\n      <td>8816</td>\n      <td>0</td>\n      <td>8816</td>\n      <td>0</td>\n      <td>c.8816G&gt;A</td>\n      <td>r.(?)</td>\n      <td>p.(Cys2939Tyr)</td>\n      <td></td>\n    </tr>\n    <tr>\n      <th>2556</th>\n      <td>0000987305</td>\n      <td>00007329</td>\n      <td>70</td>\n      <td>957</td>\n      <td>0</td>\n      <td>957</td>\n      <td>0</td>\n      <td>c.957del</td>\n      <td>r.(?)</td>\n      <td>p.(Glu319AspfsTer20)</td>\n      <td></td>\n    </tr>\n    <tr>\n      <th>2557</th>\n      <td>0000987318</td>\n      <td>00007329</td>\n      <td>70</td>\n      <td>8779</td>\n      <td>0</td>\n      <td>8779</td>\n      <td>0</td>\n      <td>c.8779T&gt;C</td>\n      <td>r.(?)</td>\n      <td>p.(Cys2927Arg)</td>\n      <td></td>\n    </tr>\n    <tr>\n      <th>2558</th>\n      <td>0000987322</td>\n      <td>00007329</td>\n      <td>90</td>\n      <td>9299</td>\n      <td>0</td>\n      <td>9302</td>\n      <td>0</td>\n      <td>c.9299_9302del</td>\n      <td>r.(?)</td>\n      <td>p.(Thr3100LysfsTer26)</td>\n      <td></td>\n    </tr>\n    <tr>\n      <th>2559</th>\n      <td>0000987333</td>\n      <td>00007329</td>\n      <td>90</td>\n      <td>8168</td>\n      <td>0</td>\n      <td>8168</td>\n      <td>0</td>\n      <td>c.8168del</td>\n      <td>r.(?)</td>\n      <td>p.(Gln2723ArgfsTer18)</td>\n      <td></td>\n    </tr>\n  </tbody>\n</table>\n<p>2560 rows × 11 columns</p>\n</div>"
     },
     "metadata": {},
     "output_type": "display_data"
    },
    {
     "name": "stdout",
     "output_type": "stream",
     "text": [
      "Screenings_To_Variants\n"
     ]
    },
    {
     "data": {
      "text/plain": "     screeningid   variantid\n0     0000000126  0000783293\n1     0000000211  0000790459\n2     0000001640  0000235838\n3     0000016557  0000036426\n4     0000033164  0000059884\n...          ...         ...\n2163  0000452765  0000987322\n2164  0000452851  0000987196\n2165  0000452858  0000987333\n2166  0000452932  0000987277\n2167  0000452947  0000987292\n\n[2168 rows x 2 columns]",
      "text/html": "<div>\n<style scoped>\n    .dataframe tbody tr th:only-of-type {\n        vertical-align: middle;\n    }\n\n    .dataframe tbody tr th {\n        vertical-align: top;\n    }\n\n    .dataframe thead th {\n        text-align: right;\n    }\n</style>\n<table border=\"1\" class=\"dataframe\">\n  <thead>\n    <tr style=\"text-align: right;\">\n      <th></th>\n      <th>screeningid</th>\n      <th>variantid</th>\n    </tr>\n  </thead>\n  <tbody>\n    <tr>\n      <th>0</th>\n      <td>0000000126</td>\n      <td>0000783293</td>\n    </tr>\n    <tr>\n      <th>1</th>\n      <td>0000000211</td>\n      <td>0000790459</td>\n    </tr>\n    <tr>\n      <th>2</th>\n      <td>0000001640</td>\n      <td>0000235838</td>\n    </tr>\n    <tr>\n      <th>3</th>\n      <td>0000016557</td>\n      <td>0000036426</td>\n    </tr>\n    <tr>\n      <th>4</th>\n      <td>0000033164</td>\n      <td>0000059884</td>\n    </tr>\n    <tr>\n      <th>...</th>\n      <td>...</td>\n      <td>...</td>\n    </tr>\n    <tr>\n      <th>2163</th>\n      <td>0000452765</td>\n      <td>0000987322</td>\n    </tr>\n    <tr>\n      <th>2164</th>\n      <td>0000452851</td>\n      <td>0000987196</td>\n    </tr>\n    <tr>\n      <th>2165</th>\n      <td>0000452858</td>\n      <td>0000987333</td>\n    </tr>\n    <tr>\n      <th>2166</th>\n      <td>0000452932</td>\n      <td>0000987277</td>\n    </tr>\n    <tr>\n      <th>2167</th>\n      <td>0000452947</td>\n      <td>0000987292</td>\n    </tr>\n  </tbody>\n</table>\n<p>2168 rows × 2 columns</p>\n</div>"
     },
     "metadata": {},
     "output_type": "display_data"
    }
   ],
   "source": [
    "for i in data:\n",
    "    print(i)\n",
    "    display(data[i])"
   ]
  },
  {
   "cell_type": "code",
   "execution_count": 12,
   "id": "ef07740b2fa63e42",
   "metadata": {
    "collapsed": false,
    "ExecuteTime": {
     "end_time": "2024-08-02T19:19:34.102360Z",
     "start_time": "2024-08-02T19:19:33.942818Z"
    }
   },
   "outputs": [
    {
     "name": "stdout",
     "output_type": "stream",
     "text": [
      "Genes\n",
      "<class 'pandas.core.frame.DataFrame'>\n",
      "RangeIndex: 1 entries, 0 to 0\n",
      "Data columns (total 34 columns):\n",
      " #   Column           Non-Null Count  Dtype         \n",
      "---  ------           --------------  -----         \n",
      " 0   id               1 non-null      string        \n",
      " 1   name             1 non-null      string        \n",
      " 2   chromosome       1 non-null      Int64         \n",
      " 3   chrom_band       1 non-null      string        \n",
      " 4   imprinting       1 non-null      string        \n",
      " 5   refseq_genomic   1 non-null      string        \n",
      " 6   refseq_UD        1 non-null      string        \n",
      " 7   reference        1 non-null      string        \n",
      " 8   url_homepage     1 non-null      string        \n",
      " 9   url_external     1 non-null      string        \n",
      " 10  allow_download   1 non-null      bool          \n",
      " 11  id_hgnc          1 non-null      Int64         \n",
      " 12  id_entrez        1 non-null      Int64         \n",
      " 13  id_omim          1 non-null      Int64         \n",
      " 14  show_hgmd        1 non-null      bool          \n",
      " 15  show_genecards   1 non-null      bool          \n",
      " 16  show_genetests   1 non-null      bool          \n",
      " 17  show_orphanet    1 non-null      bool          \n",
      " 18  note_index       1 non-null      string        \n",
      " 19  note_listing     1 non-null      string        \n",
      " 20  refseq           1 non-null      string        \n",
      " 21  refseq_url       1 non-null      string        \n",
      " 22  disclaimer       1 non-null      bool          \n",
      " 23  disclaimer_text  1 non-null      string        \n",
      " 24  header           1 non-null      string        \n",
      " 25  header_align     1 non-null      Int64         \n",
      " 26  footer           1 non-null      string        \n",
      " 27  footer_align     1 non-null      Int64         \n",
      " 28  created_by       1 non-null      Int64         \n",
      " 29  created_date     1 non-null      datetime64[ns]\n",
      " 30  edited_by        1 non-null      Int64         \n",
      " 31  edited_date      1 non-null      datetime64[ns]\n",
      " 32  updated_by       1 non-null      Int64         \n",
      " 33  updated_date     1 non-null      datetime64[ns]\n",
      "dtypes: Int64(9), bool(6), datetime64[ns](3), string(16)\n",
      "memory usage: 371.0 bytes\n"
     ]
    },
    {
     "data": {
      "text/plain": "None"
     },
     "metadata": {},
     "output_type": "display_data"
    },
    {
     "name": "stdout",
     "output_type": "stream",
     "text": [
      "Transcripts\n",
      "<class 'pandas.core.frame.DataFrame'>\n",
      "RangeIndex: 1 entries, 0 to 0\n",
      "Data columns (total 19 columns):\n",
      " #   Column                 Non-Null Count  Dtype         \n",
      "---  ------                 --------------  -----         \n",
      " 0   id                     1 non-null      Int64         \n",
      " 1   geneid                 1 non-null      string        \n",
      " 2   name                   1 non-null      string        \n",
      " 3   id_mutalyzer           1 non-null      Int64         \n",
      " 4   id_ncbi                1 non-null      string        \n",
      " 5   id_ensembl             1 non-null      string        \n",
      " 6   id_protein_ncbi        1 non-null      string        \n",
      " 7   id_protein_ensembl     1 non-null      string        \n",
      " 8   id_protein_uniprot     1 non-null      string        \n",
      " 9   remarks                1 non-null      string        \n",
      " 10  position_c_mrna_start  1 non-null      Int64         \n",
      " 11  position_c_mrna_end    1 non-null      Int64         \n",
      " 12  position_c_cds_end     1 non-null      Int64         \n",
      " 13  position_g_mrna_start  1 non-null      Int64         \n",
      " 14  position_g_mrna_end    1 non-null      Int64         \n",
      " 15  created_by             0 non-null      Int64         \n",
      " 16  created_date           0 non-null      datetime64[ns]\n",
      " 17  edited_by              0 non-null      Int64         \n",
      " 18  edited_date            0 non-null      datetime64[ns]\n",
      "dtypes: Int64(9), datetime64[ns](2), string(8)\n",
      "memory usage: 293.0 bytes\n"
     ]
    },
    {
     "data": {
      "text/plain": "None"
     },
     "metadata": {},
     "output_type": "display_data"
    },
    {
     "name": "stdout",
     "output_type": "stream",
     "text": [
      "Diseases\n",
      "<class 'pandas.core.frame.DataFrame'>\n",
      "RangeIndex: 15 entries, 0 to 14\n",
      "Data columns (total 12 columns):\n",
      " #   Column        Non-Null Count  Dtype         \n",
      "---  ------        --------------  -----         \n",
      " 0   id            15 non-null     Int64         \n",
      " 1   symbol        15 non-null     string        \n",
      " 2   name          15 non-null     string        \n",
      " 3   inheritance   15 non-null     string        \n",
      " 4   id_omim       4 non-null      Int64         \n",
      " 5   tissues       15 non-null     string        \n",
      " 6   features      15 non-null     string        \n",
      " 7   remarks       15 non-null     string        \n",
      " 8   created_by    15 non-null     Int64         \n",
      " 9   created_date  15 non-null     datetime64[ns]\n",
      " 10  edited_by     11 non-null     Int64         \n",
      " 11  edited_date   11 non-null     datetime64[ns]\n",
      "dtypes: Int64(4), datetime64[ns](2), string(6)\n",
      "memory usage: 1.6 KB\n"
     ]
    },
    {
     "data": {
      "text/plain": "None"
     },
     "metadata": {},
     "output_type": "display_data"
    },
    {
     "name": "stdout",
     "output_type": "stream",
     "text": [
      "Genes_To_Diseases\n",
      "<class 'pandas.core.frame.DataFrame'>\n",
      "RangeIndex: 2 entries, 0 to 1\n",
      "Data columns (total 2 columns):\n",
      " #   Column     Non-Null Count  Dtype \n",
      "---  ------     --------------  ----- \n",
      " 0   geneid     2 non-null      string\n",
      " 1   diseaseid  2 non-null      Int64 \n",
      "dtypes: Int64(1), string(1)\n",
      "memory usage: 166.0 bytes\n"
     ]
    },
    {
     "data": {
      "text/plain": "None"
     },
     "metadata": {},
     "output_type": "display_data"
    },
    {
     "name": "stdout",
     "output_type": "stream",
     "text": [
      "Individuals\n",
      "<class 'pandas.core.frame.DataFrame'>\n",
      "RangeIndex: 1465 entries, 0 to 1464\n",
      "Data columns (total 18 columns):\n",
      " #   Column                        Non-Null Count  Dtype \n",
      "---  ------                        --------------  ----- \n",
      " 0   id                            1465 non-null   Int64 \n",
      " 1   fatherid                      1465 non-null   string\n",
      " 2   motherid                      1465 non-null   string\n",
      " 3   panelid                       6 non-null      Int64 \n",
      " 4   panel_size                    1465 non-null   Int64 \n",
      " 5   license                       1465 non-null   string\n",
      " 6   owned_by                      1465 non-null   Int64 \n",
      " 7   Individual/Reference          1465 non-null   string\n",
      " 8   Individual/Remarks            1465 non-null   string\n",
      " 9   Individual/Gender             1465 non-null   string\n",
      " 10  Individual/Consanguinity      1465 non-null   string\n",
      " 11  Individual/Origin/Geographic  1465 non-null   string\n",
      " 12  Individual/Age_of_death       1465 non-null   string\n",
      " 13  Individual/VIP                1465 non-null   string\n",
      " 14  Individual/Data_av            1465 non-null   string\n",
      " 15  Individual/Treatment          1465 non-null   string\n",
      " 16  Individual/Origin/Population  1465 non-null   string\n",
      " 17  Individual/Individual_ID      1465 non-null   string\n",
      "dtypes: Int64(4), string(14)\n",
      "memory usage: 211.9 KB\n"
     ]
    },
    {
     "data": {
      "text/plain": "None"
     },
     "metadata": {},
     "output_type": "display_data"
    },
    {
     "name": "stdout",
     "output_type": "stream",
     "text": [
      "Individuals_To_Diseases\n",
      "<class 'pandas.core.frame.DataFrame'>\n",
      "RangeIndex: 1464 entries, 0 to 1463\n",
      "Data columns (total 2 columns):\n",
      " #   Column        Non-Null Count  Dtype\n",
      "---  ------        --------------  -----\n",
      " 0   individualid  1464 non-null   Int64\n",
      " 1   diseaseid     1464 non-null   Int64\n",
      "dtypes: Int64(2)\n",
      "memory usage: 25.9 KB\n"
     ]
    },
    {
     "data": {
      "text/plain": "None"
     },
     "metadata": {},
     "output_type": "display_data"
    },
    {
     "name": "stdout",
     "output_type": "stream",
     "text": [
      "Phenotypes\n",
      "<class 'pandas.core.frame.DataFrame'>\n",
      "RangeIndex: 1277 entries, 0 to 1276\n",
      "Data columns (total 20 columns):\n",
      " #   Column                        Non-Null Count  Dtype \n",
      "---  ------                        --------------  ----- \n",
      " 0   id                            1277 non-null   Int64 \n",
      " 1   diseaseid                     1277 non-null   Int64 \n",
      " 2   individualid                  1277 non-null   Int64 \n",
      " 3   owned_by                      1277 non-null   Int64 \n",
      " 4   Phenotype/Inheritance         1277 non-null   string\n",
      " 5   Phenotype/Age                 1277 non-null   string\n",
      " 6   Phenotype/Additional          1277 non-null   string\n",
      " 7   Phenotype/Biochem_param       1277 non-null   string\n",
      " 8   Phenotype/Age/Onset           1277 non-null   string\n",
      " 9   Phenotype/Age/Diagnosis       1277 non-null   string\n",
      " 10  Phenotype/Severity_score      1277 non-null   string\n",
      " 11  Phenotype/Onset               1277 non-null   string\n",
      " 12  Phenotype/Protein             1277 non-null   string\n",
      " 13  Phenotype/Tumor/MSI           1277 non-null   string\n",
      " 14  Phenotype/Enzyme/CPK          1277 non-null   string\n",
      " 15  Phenotype/Heart/Myocardium    1277 non-null   string\n",
      " 16  Phenotype/Lung                1277 non-null   string\n",
      " 17  Phenotype/Diagnosis/Definite  1277 non-null   string\n",
      " 18  Phenotype/Diagnosis/Initial   1277 non-null   string\n",
      " 19  Phenotype/Diagnosis/Criteria  1277 non-null   string\n",
      "dtypes: Int64(4), string(16)\n",
      "memory usage: 204.6 KB\n"
     ]
    },
    {
     "data": {
      "text/plain": "None"
     },
     "metadata": {},
     "output_type": "display_data"
    },
    {
     "name": "stdout",
     "output_type": "stream",
     "text": [
      "Screenings\n",
      "<class 'pandas.core.frame.DataFrame'>\n",
      "RangeIndex: 1465 entries, 0 to 1464\n",
      "Data columns (total 12 columns):\n",
      " #   Column               Non-Null Count  Dtype         \n",
      "---  ------               --------------  -----         \n",
      " 0   id                   1465 non-null   Int64         \n",
      " 1   individualid         1465 non-null   Int64         \n",
      " 2   variants_found       1465 non-null   Int64         \n",
      " 3   owned_by             1465 non-null   Int64         \n",
      " 4   created_by           1465 non-null   Int64         \n",
      " 5   created_date         1465 non-null   datetime64[ns]\n",
      " 6   edited_by            15 non-null     Int64         \n",
      " 7   edited_date          15 non-null     datetime64[ns]\n",
      " 8   Screening/Technique  1465 non-null   string        \n",
      " 9   Screening/Template   1465 non-null   string        \n",
      " 10  Screening/Tissue     1465 non-null   string        \n",
      " 11  Screening/Remarks    1465 non-null   string        \n",
      "dtypes: Int64(6), datetime64[ns](2), string(4)\n",
      "memory usage: 146.1 KB\n"
     ]
    },
    {
     "data": {
      "text/plain": "None"
     },
     "metadata": {},
     "output_type": "display_data"
    },
    {
     "name": "stdout",
     "output_type": "stream",
     "text": [
      "Screenings_To_Genes\n",
      "<class 'pandas.core.frame.DataFrame'>\n",
      "RangeIndex: 1316 entries, 0 to 1315\n",
      "Data columns (total 2 columns):\n",
      " #   Column       Non-Null Count  Dtype \n",
      "---  ------       --------------  ----- \n",
      " 0   screeningid  1316 non-null   Int64 \n",
      " 1   geneid       1316 non-null   string\n",
      "dtypes: Int64(1), string(1)\n",
      "memory usage: 22.0 KB\n"
     ]
    },
    {
     "data": {
      "text/plain": "None"
     },
     "metadata": {},
     "output_type": "display_data"
    },
    {
     "name": "stdout",
     "output_type": "stream",
     "text": [
      "Variants_On_Genome\n",
      "<class 'pandas.core.frame.DataFrame'>\n",
      "RangeIndex: 2560 entries, 0 to 2559\n",
      "Data columns (total 26 columns):\n",
      " #   Column                                         Non-Null Count  Dtype  \n",
      "---  ------                                         --------------  -----  \n",
      " 0   id                                             2560 non-null   Int64  \n",
      " 1   allele                                         2560 non-null   Int64  \n",
      " 2   effectid                                       2560 non-null   Int64  \n",
      " 3   chromosome                                     2560 non-null   Int64  \n",
      " 4   position_g_start                               2559 non-null   Int64  \n",
      " 5   position_g_end                                 2559 non-null   Int64  \n",
      " 6   type                                           2560 non-null   string \n",
      " 7   average_frequency                              2559 non-null   float64\n",
      " 8   owned_by                                       2560 non-null   Int64  \n",
      " 9   VariantOnGenome/DBID                           2560 non-null   string \n",
      " 10  VariantOnGenome/DNA                            2560 non-null   string \n",
      " 11  VariantOnGenome/Frequency                      2560 non-null   string \n",
      " 12  VariantOnGenome/Reference                      2560 non-null   string \n",
      " 13  VariantOnGenome/Restriction_site               2560 non-null   string \n",
      " 14  VariantOnGenome/Published_as                   2560 non-null   string \n",
      " 15  VariantOnGenome/Remarks                        2560 non-null   string \n",
      " 16  VariantOnGenome/Genetic_origin                 2560 non-null   string \n",
      " 17  VariantOnGenome/Segregation                    2560 non-null   string \n",
      " 18  VariantOnGenome/dbSNP                          2560 non-null   string \n",
      " 19  VariantOnGenome/VIP                            2560 non-null   string \n",
      " 20  VariantOnGenome/Methylation                    2560 non-null   string \n",
      " 21  VariantOnGenome/ISCN                           2560 non-null   string \n",
      " 22  VariantOnGenome/DNA/hg38                       2560 non-null   string \n",
      " 23  VariantOnGenome/ClinVar                        2560 non-null   string \n",
      " 24  VariantOnGenome/ClinicalClassification         2560 non-null   string \n",
      " 25  VariantOnGenome/ClinicalClassification/Method  2560 non-null   string \n",
      "dtypes: Int64(7), float64(1), string(18)\n",
      "memory usage: 537.6 KB\n"
     ]
    },
    {
     "data": {
      "text/plain": "None"
     },
     "metadata": {},
     "output_type": "display_data"
    },
    {
     "name": "stdout",
     "output_type": "stream",
     "text": [
      "Variants_On_Transcripts\n",
      "<class 'pandas.core.frame.DataFrame'>\n",
      "RangeIndex: 2560 entries, 0 to 2559\n",
      "Data columns (total 11 columns):\n",
      " #   Column                       Non-Null Count  Dtype \n",
      "---  ------                       --------------  ----- \n",
      " 0   id                           2560 non-null   Int64 \n",
      " 1   transcriptid                 2560 non-null   Int64 \n",
      " 2   effectid                     2560 non-null   Int64 \n",
      " 3   position_c_start             2559 non-null   Int64 \n",
      " 4   position_c_start_intron      2560 non-null   Int64 \n",
      " 5   position_c_end               2559 non-null   Int64 \n",
      " 6   position_c_end_intron        2560 non-null   Int64 \n",
      " 7   VariantOnTranscript/DNA      2560 non-null   string\n",
      " 8   VariantOnTranscript/RNA      2560 non-null   string\n",
      " 9   VariantOnTranscript/Protein  2560 non-null   string\n",
      " 10  VariantOnTranscript/Exon     2560 non-null   string\n",
      "dtypes: Int64(7), string(4)\n",
      "memory usage: 237.6 KB\n"
     ]
    },
    {
     "data": {
      "text/plain": "None"
     },
     "metadata": {},
     "output_type": "display_data"
    },
    {
     "name": "stdout",
     "output_type": "stream",
     "text": [
      "Screenings_To_Variants\n",
      "<class 'pandas.core.frame.DataFrame'>\n",
      "RangeIndex: 2168 entries, 0 to 2167\n",
      "Data columns (total 2 columns):\n",
      " #   Column       Non-Null Count  Dtype\n",
      "---  ------       --------------  -----\n",
      " 0   screeningid  2168 non-null   Int64\n",
      " 1   variantid    2168 non-null   Int64\n",
      "dtypes: Int64(2)\n",
      "memory usage: 38.2 KB\n"
     ]
    },
    {
     "data": {
      "text/plain": "None"
     },
     "metadata": {},
     "output_type": "display_data"
    }
   ],
   "source": [
    "set_lovd_dtypes(data)\n",
    "for i in data:\n",
    "    print(i)\n",
    "    display(data[i].info())"
   ]
  },
  {
   "cell_type": "code",
   "execution_count": 13,
   "id": "c968af1617be40db",
   "metadata": {
    "ExecuteTime": {
     "end_time": "2024-08-02T19:19:34.777568Z",
     "start_time": "2024-08-02T19:19:34.103364Z"
    }
   },
   "outputs": [
    {
     "ename": "KeyError",
     "evalue": "'Variants_On_Genome'",
     "output_type": "error",
     "traceback": [
      "\u001B[1;31m---------------------------------------------------------------------------\u001B[0m",
      "\u001B[1;31mKeyError\u001B[0m                                  Traceback (most recent call last)",
      "File \u001B[1;32m~\\PycharmProjects\\kath\\.venv\\Lib\\site-packages\\pandas\\core\\indexes\\base.py:3805\u001B[0m, in \u001B[0;36mIndex.get_loc\u001B[1;34m(self, key)\u001B[0m\n\u001B[0;32m   3804\u001B[0m \u001B[38;5;28;01mtry\u001B[39;00m:\n\u001B[1;32m-> 3805\u001B[0m     \u001B[38;5;28;01mreturn\u001B[39;00m \u001B[38;5;28;43mself\u001B[39;49m\u001B[38;5;241;43m.\u001B[39;49m\u001B[43m_engine\u001B[49m\u001B[38;5;241;43m.\u001B[39;49m\u001B[43mget_loc\u001B[49m\u001B[43m(\u001B[49m\u001B[43mcasted_key\u001B[49m\u001B[43m)\u001B[49m\n\u001B[0;32m   3806\u001B[0m \u001B[38;5;28;01mexcept\u001B[39;00m \u001B[38;5;167;01mKeyError\u001B[39;00m \u001B[38;5;28;01mas\u001B[39;00m err:\n",
      "File \u001B[1;32mindex.pyx:167\u001B[0m, in \u001B[0;36mpandas._libs.index.IndexEngine.get_loc\u001B[1;34m()\u001B[0m\n",
      "File \u001B[1;32mindex.pyx:196\u001B[0m, in \u001B[0;36mpandas._libs.index.IndexEngine.get_loc\u001B[1;34m()\u001B[0m\n",
      "File \u001B[1;32mpandas\\\\_libs\\\\hashtable_class_helper.pxi:7081\u001B[0m, in \u001B[0;36mpandas._libs.hashtable.PyObjectHashTable.get_item\u001B[1;34m()\u001B[0m\n",
      "File \u001B[1;32mpandas\\\\_libs\\\\hashtable_class_helper.pxi:7089\u001B[0m, in \u001B[0;36mpandas._libs.hashtable.PyObjectHashTable.get_item\u001B[1;34m()\u001B[0m\n",
      "\u001B[1;31mKeyError\u001B[0m: 'Variants_On_Genome'",
      "\nThe above exception was the direct cause of the following exception:\n",
      "\u001B[1;31mKeyError\u001B[0m                                  Traceback (most recent call last)",
      "Cell \u001B[1;32mIn[13], line 1\u001B[0m\n\u001B[1;32m----> 1\u001B[0m \u001B[43msave_lovd_as_vcf\u001B[49m\u001B[43m(\u001B[49m\u001B[43mdata\u001B[49m\u001B[43m[\u001B[49m\u001B[38;5;124;43m\"\u001B[39;49m\u001B[38;5;124;43mVariants_On_Genome\u001B[39;49m\u001B[38;5;124;43m\"\u001B[39;49m\u001B[43m]\u001B[49m\u001B[43m,\u001B[49m\u001B[43m \u001B[49m\u001B[38;5;124;43m\"\u001B[39;49m\u001B[38;5;124;43m./lovd.vcf\u001B[39;49m\u001B[38;5;124;43m\"\u001B[39;49m\u001B[43m)\u001B[49m\n",
      "File \u001B[1;32m~\\PycharmProjects\\kath\\api\\data\\refactoring.py:136\u001B[0m, in \u001B[0;36msave_lovd_as_vcf\u001B[1;34m(data, save_to)\u001B[0m\n\u001B[0;32m    130\u001B[0m \u001B[38;5;28;01mdef\u001B[39;00m \u001B[38;5;21msave_lovd_as_vcf\u001B[39m(data, save_to\u001B[38;5;241m=\u001B[39m\u001B[38;5;124m\"\u001B[39m\u001B[38;5;124m./lovd.vcf\u001B[39m\u001B[38;5;124m\"\u001B[39m):\n\u001B[0;32m    131\u001B[0m \u001B[38;5;250m    \u001B[39m\u001B[38;5;124;03m\"\"\"\u001B[39;00m\n\u001B[0;32m    132\u001B[0m \u001B[38;5;124;03m    Gets hg38 variants from LOVD and saves as VCF file.\u001B[39;00m\n\u001B[0;32m    133\u001B[0m \u001B[38;5;124;03m    :param DataFrame data: LOVD DataFrame with data\u001B[39;00m\n\u001B[0;32m    134\u001B[0m \u001B[38;5;124;03m    :param str save_to: path where to save VCF file.\u001B[39;00m\n\u001B[0;32m    135\u001B[0m \u001B[38;5;124;03m    \"\"\"\u001B[39;00m\n\u001B[1;32m--> 136\u001B[0m     df \u001B[38;5;241m=\u001B[39m \u001B[43mdata\u001B[49m\u001B[43m[\u001B[49m\u001B[38;5;124;43m\"\u001B[39;49m\u001B[38;5;124;43mVariants_On_Genome\u001B[39;49m\u001B[38;5;124;43m\"\u001B[39;49m\u001B[43m]\u001B[49m\n\u001B[0;32m    137\u001B[0m     \u001B[38;5;28;01mif\u001B[39;00m \u001B[38;5;124m\"\u001B[39m\u001B[38;5;124mVariantOnGenome/DNA/hg38\u001B[39m\u001B[38;5;124m\"\u001B[39m \u001B[38;5;129;01mnot\u001B[39;00m \u001B[38;5;129;01min\u001B[39;00m df\u001B[38;5;241m.\u001B[39mcolumns:\n\u001B[0;32m    138\u001B[0m         \u001B[38;5;28;01mraise\u001B[39;00m \u001B[38;5;167;01mValueError\u001B[39;00m(\u001B[38;5;124m\"\u001B[39m\u001B[38;5;124mVariantOnGenome/DNA/hg38 is not in the LOVD DataFrame.\u001B[39m\u001B[38;5;124m\"\u001B[39m)\n",
      "File \u001B[1;32m~\\PycharmProjects\\kath\\.venv\\Lib\\site-packages\\pandas\\core\\frame.py:4102\u001B[0m, in \u001B[0;36mDataFrame.__getitem__\u001B[1;34m(self, key)\u001B[0m\n\u001B[0;32m   4100\u001B[0m \u001B[38;5;28;01mif\u001B[39;00m \u001B[38;5;28mself\u001B[39m\u001B[38;5;241m.\u001B[39mcolumns\u001B[38;5;241m.\u001B[39mnlevels \u001B[38;5;241m>\u001B[39m \u001B[38;5;241m1\u001B[39m:\n\u001B[0;32m   4101\u001B[0m     \u001B[38;5;28;01mreturn\u001B[39;00m \u001B[38;5;28mself\u001B[39m\u001B[38;5;241m.\u001B[39m_getitem_multilevel(key)\n\u001B[1;32m-> 4102\u001B[0m indexer \u001B[38;5;241m=\u001B[39m \u001B[38;5;28;43mself\u001B[39;49m\u001B[38;5;241;43m.\u001B[39;49m\u001B[43mcolumns\u001B[49m\u001B[38;5;241;43m.\u001B[39;49m\u001B[43mget_loc\u001B[49m\u001B[43m(\u001B[49m\u001B[43mkey\u001B[49m\u001B[43m)\u001B[49m\n\u001B[0;32m   4103\u001B[0m \u001B[38;5;28;01mif\u001B[39;00m is_integer(indexer):\n\u001B[0;32m   4104\u001B[0m     indexer \u001B[38;5;241m=\u001B[39m [indexer]\n",
      "File \u001B[1;32m~\\PycharmProjects\\kath\\.venv\\Lib\\site-packages\\pandas\\core\\indexes\\base.py:3812\u001B[0m, in \u001B[0;36mIndex.get_loc\u001B[1;34m(self, key)\u001B[0m\n\u001B[0;32m   3807\u001B[0m     \u001B[38;5;28;01mif\u001B[39;00m \u001B[38;5;28misinstance\u001B[39m(casted_key, \u001B[38;5;28mslice\u001B[39m) \u001B[38;5;129;01mor\u001B[39;00m (\n\u001B[0;32m   3808\u001B[0m         \u001B[38;5;28misinstance\u001B[39m(casted_key, abc\u001B[38;5;241m.\u001B[39mIterable)\n\u001B[0;32m   3809\u001B[0m         \u001B[38;5;129;01mand\u001B[39;00m \u001B[38;5;28many\u001B[39m(\u001B[38;5;28misinstance\u001B[39m(x, \u001B[38;5;28mslice\u001B[39m) \u001B[38;5;28;01mfor\u001B[39;00m x \u001B[38;5;129;01min\u001B[39;00m casted_key)\n\u001B[0;32m   3810\u001B[0m     ):\n\u001B[0;32m   3811\u001B[0m         \u001B[38;5;28;01mraise\u001B[39;00m InvalidIndexError(key)\n\u001B[1;32m-> 3812\u001B[0m     \u001B[38;5;28;01mraise\u001B[39;00m \u001B[38;5;167;01mKeyError\u001B[39;00m(key) \u001B[38;5;28;01mfrom\u001B[39;00m \u001B[38;5;21;01merr\u001B[39;00m\n\u001B[0;32m   3813\u001B[0m \u001B[38;5;28;01mexcept\u001B[39;00m \u001B[38;5;167;01mTypeError\u001B[39;00m:\n\u001B[0;32m   3814\u001B[0m     \u001B[38;5;66;03m# If we have a listlike key, _check_indexing_error will raise\u001B[39;00m\n\u001B[0;32m   3815\u001B[0m     \u001B[38;5;66;03m#  InvalidIndexError. Otherwise we fall through and re-raise\u001B[39;00m\n\u001B[0;32m   3816\u001B[0m     \u001B[38;5;66;03m#  the TypeError.\u001B[39;00m\n\u001B[0;32m   3817\u001B[0m     \u001B[38;5;28mself\u001B[39m\u001B[38;5;241m.\u001B[39m_check_indexing_error(key)\n",
      "\u001B[1;31mKeyError\u001B[0m: 'Variants_On_Genome'"
     ]
    }
   ],
   "source": [
    "save_lovd_as_vcf(data[\"Variants_On_Genome\"], \"./lovd.vcf\")"
   ]
  },
  {
   "cell_type": "code",
   "execution_count": null,
   "id": "c7ff16903e0c52bd",
   "metadata": {
    "ExecuteTime": {
     "start_time": "2024-08-02T19:19:34.778571Z"
    }
   },
   "outputs": [],
   "source": [
    "from subprocess import Popen\n",
    "\n",
    "\n",
    "process = Popen(\"spliceai -I ./lovd.vcf -O ./lovd_output.vcf -R ../tools/spliceai/hg38.fa -A grch38\".split())\n",
    "process.wait()"
   ]
  },
  {
   "cell_type": "code",
   "execution_count": 14,
   "id": "0514ccc3-5c91-41ad-ab15-f4158030ea14",
   "metadata": {
    "ExecuteTime": {
     "end_time": "2024-08-02T19:21:22.043058Z",
     "start_time": "2024-08-02T19:21:22.026817Z"
    }
   },
   "outputs": [
    {
     "ename": "ImportError",
     "evalue": "cannot import name 'get_revel_scores' from 'tools' (unknown location)",
     "output_type": "error",
     "traceback": [
      "\u001B[1;31m---------------------------------------------------------------------------\u001B[0m",
      "\u001B[1;31mImportError\u001B[0m                               Traceback (most recent call last)",
      "Cell \u001B[1;32mIn[14], line 1\u001B[0m\n\u001B[1;32m----> 1\u001B[0m \u001B[38;5;28;01mfrom\u001B[39;00m \u001B[38;5;21;01mtools\u001B[39;00m \u001B[38;5;28;01mimport\u001B[39;00m get_revel_scores\n\u001B[0;32m      3\u001B[0m chromosome \u001B[38;5;241m=\u001B[39m \u001B[38;5;241m6\u001B[39m\n\u001B[0;32m      4\u001B[0m position \u001B[38;5;241m=\u001B[39m \u001B[38;5;241m65655758\u001B[39m\n",
      "\u001B[1;31mImportError\u001B[0m: cannot import name 'get_revel_scores' from 'tools' (unknown location)"
     ]
    }
   ],
   "source": [
    "from tools import get_revel_scores\n",
    "\n",
    "chromosome = 6\n",
    "position = 65655758\n",
    "\n",
    "results = get_revel_scores(chromosome, position)\n",
    "\n",
    "display(results)"
   ]
  },
  {
   "cell_type": "code",
   "outputs": [
    {
     "name": "stdout",
     "output_type": "stream",
     "text": [
      "The file at ../data/lovd/lovd_data.txt already exists.\n"
     ]
    },
    {
     "data": {
      "text/plain": "          id  transcriptid  effectid  position_c_start  \\\n0     235774          7329        99              2382   \n1     685192          7329        90              2138   \n2     685193          7329        90              6425   \n3     685205          7329        90                 0   \n4     733578          7329        70                 0   \n...      ...           ...       ...               ...   \n6386  822843          7329        70              5608   \n6387  822771          7329        70              8206   \n6388  791202          7329        90              7724   \n6389  791202          7329        90              7724   \n6390  791202          7329        90              7724   \n\n      position_c_start_intron  position_c_end  position_c_end_intron  \\\n0                          -1            2992                      1   \n1                          -1            3443                      1   \n2                           1            6725                      1   \n3                           0               0                      0   \n4                           0               0                      0   \n...                       ...             ...                    ...   \n6386                        0            5608                      0   \n6387                        0            8206                      0   \n6388                       -1            8071                      1   \n6389                       -1            8071                      1   \n6390                       -1            8071                      1   \n\n                   VariantOnTranscript/DNA VariantOnTranscript/RNA  \\\n0     c.(2381+1_2382-1)_(2992+1_2993-1)del                     r.?   \n1     c.(2137+1_2138-1)_(3443+1_3444-1)del                     r.?   \n2     c.(6424-1_6425+1)_(6725+1_6726-1)del                     r.?   \n3                                      c.?                     r.?   \n4                                      c.?                     r.?   \n...                                    ...                     ...   \n6386                             c.5608C>T                   r.(?)   \n6387                             c.8206G>C                   r.(?)   \n6388  c.(7723+1_7724-1)_(8071+1_8072-1)dup                   r.(?)   \n6389  c.(7723+1_7724-1)_(8071+1_8072-1)dup                   r.(?)   \n6390  c.(7723+1_7724-1)_(8071+1_8072-1)dup                   r.(?)   \n\n     VariantOnTranscript/Protein VariantOnTranscript/Exon  position_g_start  \\\n0              p.(Cys795Hisfs*4)                  15i_19i                 0   \n1             p.(Val713Aspfs*15)                                          0   \n2            p.(Asp2142Alafs*14)                                          0   \n3          p.(Lys251_Gly2766del)                                          0   \n4                            p.?                                          0   \n...                          ...                      ...               ...   \n6386              p.(Arg1870Trp)                                  216246607   \n6387              p.(Ala2736Pro)                                  216500979   \n6388                       p.(?)                   39i-41              <NA>   \n6389                       p.(?)                   39i-41              <NA>   \n6390                       p.(?)                   39i-41              <NA>   \n\n      position_g_end               Germline classification_clinvar  \\\n0                  0                                           NaN   \n1                  0                                           NaN   \n2                  0                                           NaN   \n3                  0                                           NaN   \n4                  0                                           NaN   \n...              ...                                           ...   \n6386       216246607                        Uncertain significance   \n6387       216500979  Conflicting classifications of pathogenicity   \n6388            <NA>                        Uncertain significance   \n6389            <NA>                        Uncertain significance   \n6390            <NA>                        Uncertain significance   \n\n     Accession_clinvar  GRCh38Location_start  GRCh38Location_end  \\\n0                  NaN                  <NA>                <NA>   \n1                  NaN                  <NA>                <NA>   \n2                  NaN                  <NA>                <NA>   \n3                  NaN                  <NA>                <NA>   \n4                  NaN                  <NA>                <NA>   \n...                ...                   ...                 ...   \n6386      VCV001368834              65707190                <NA>   \n6387      VCV000357763              65707208                <NA>   \n6388      VCV001396496              65707212                <NA>   \n6389      VCV001470231              65707216                <NA>   \n6390      VCV001376945              65707219                <NA>   \n\n     Protein_clinvar c.position_clinvar  \n0                NaN                NaN  \n1                NaN                NaN  \n2                NaN                NaN  \n3                NaN                NaN  \n4                NaN                NaN  \n...              ...                ...  \n6386             NaN          c.-503A>G  \n6387             NaN          c.-521C>T  \n6388             NaN          c.-525T>G  \n6389             NaN          c.-529G>A  \n6390             NaN          c.-532A>C  \n\n[6391 rows x 19 columns]",
      "text/html": "<div>\n<style scoped>\n    .dataframe tbody tr th:only-of-type {\n        vertical-align: middle;\n    }\n\n    .dataframe tbody tr th {\n        vertical-align: top;\n    }\n\n    .dataframe thead th {\n        text-align: right;\n    }\n</style>\n<table border=\"1\" class=\"dataframe\">\n  <thead>\n    <tr style=\"text-align: right;\">\n      <th></th>\n      <th>id</th>\n      <th>transcriptid</th>\n      <th>effectid</th>\n      <th>position_c_start</th>\n      <th>position_c_start_intron</th>\n      <th>position_c_end</th>\n      <th>position_c_end_intron</th>\n      <th>VariantOnTranscript/DNA</th>\n      <th>VariantOnTranscript/RNA</th>\n      <th>VariantOnTranscript/Protein</th>\n      <th>VariantOnTranscript/Exon</th>\n      <th>position_g_start</th>\n      <th>position_g_end</th>\n      <th>Germline classification_clinvar</th>\n      <th>Accession_clinvar</th>\n      <th>GRCh38Location_start</th>\n      <th>GRCh38Location_end</th>\n      <th>Protein_clinvar</th>\n      <th>c.position_clinvar</th>\n    </tr>\n  </thead>\n  <tbody>\n    <tr>\n      <th>0</th>\n      <td>235774</td>\n      <td>7329</td>\n      <td>99</td>\n      <td>2382</td>\n      <td>-1</td>\n      <td>2992</td>\n      <td>1</td>\n      <td>c.(2381+1_2382-1)_(2992+1_2993-1)del</td>\n      <td>r.?</td>\n      <td>p.(Cys795Hisfs*4)</td>\n      <td>15i_19i</td>\n      <td>0</td>\n      <td>0</td>\n      <td>NaN</td>\n      <td>NaN</td>\n      <td>&lt;NA&gt;</td>\n      <td>&lt;NA&gt;</td>\n      <td>NaN</td>\n      <td>NaN</td>\n    </tr>\n    <tr>\n      <th>1</th>\n      <td>685192</td>\n      <td>7329</td>\n      <td>90</td>\n      <td>2138</td>\n      <td>-1</td>\n      <td>3443</td>\n      <td>1</td>\n      <td>c.(2137+1_2138-1)_(3443+1_3444-1)del</td>\n      <td>r.?</td>\n      <td>p.(Val713Aspfs*15)</td>\n      <td></td>\n      <td>0</td>\n      <td>0</td>\n      <td>NaN</td>\n      <td>NaN</td>\n      <td>&lt;NA&gt;</td>\n      <td>&lt;NA&gt;</td>\n      <td>NaN</td>\n      <td>NaN</td>\n    </tr>\n    <tr>\n      <th>2</th>\n      <td>685193</td>\n      <td>7329</td>\n      <td>90</td>\n      <td>6425</td>\n      <td>1</td>\n      <td>6725</td>\n      <td>1</td>\n      <td>c.(6424-1_6425+1)_(6725+1_6726-1)del</td>\n      <td>r.?</td>\n      <td>p.(Asp2142Alafs*14)</td>\n      <td></td>\n      <td>0</td>\n      <td>0</td>\n      <td>NaN</td>\n      <td>NaN</td>\n      <td>&lt;NA&gt;</td>\n      <td>&lt;NA&gt;</td>\n      <td>NaN</td>\n      <td>NaN</td>\n    </tr>\n    <tr>\n      <th>3</th>\n      <td>685205</td>\n      <td>7329</td>\n      <td>90</td>\n      <td>0</td>\n      <td>0</td>\n      <td>0</td>\n      <td>0</td>\n      <td>c.?</td>\n      <td>r.?</td>\n      <td>p.(Lys251_Gly2766del)</td>\n      <td></td>\n      <td>0</td>\n      <td>0</td>\n      <td>NaN</td>\n      <td>NaN</td>\n      <td>&lt;NA&gt;</td>\n      <td>&lt;NA&gt;</td>\n      <td>NaN</td>\n      <td>NaN</td>\n    </tr>\n    <tr>\n      <th>4</th>\n      <td>733578</td>\n      <td>7329</td>\n      <td>70</td>\n      <td>0</td>\n      <td>0</td>\n      <td>0</td>\n      <td>0</td>\n      <td>c.?</td>\n      <td>r.?</td>\n      <td>p.?</td>\n      <td></td>\n      <td>0</td>\n      <td>0</td>\n      <td>NaN</td>\n      <td>NaN</td>\n      <td>&lt;NA&gt;</td>\n      <td>&lt;NA&gt;</td>\n      <td>NaN</td>\n      <td>NaN</td>\n    </tr>\n    <tr>\n      <th>...</th>\n      <td>...</td>\n      <td>...</td>\n      <td>...</td>\n      <td>...</td>\n      <td>...</td>\n      <td>...</td>\n      <td>...</td>\n      <td>...</td>\n      <td>...</td>\n      <td>...</td>\n      <td>...</td>\n      <td>...</td>\n      <td>...</td>\n      <td>...</td>\n      <td>...</td>\n      <td>...</td>\n      <td>...</td>\n      <td>...</td>\n      <td>...</td>\n    </tr>\n    <tr>\n      <th>6386</th>\n      <td>822843</td>\n      <td>7329</td>\n      <td>70</td>\n      <td>5608</td>\n      <td>0</td>\n      <td>5608</td>\n      <td>0</td>\n      <td>c.5608C&gt;T</td>\n      <td>r.(?)</td>\n      <td>p.(Arg1870Trp)</td>\n      <td></td>\n      <td>216246607</td>\n      <td>216246607</td>\n      <td>Uncertain significance</td>\n      <td>VCV001368834</td>\n      <td>65707190</td>\n      <td>&lt;NA&gt;</td>\n      <td>NaN</td>\n      <td>c.-503A&gt;G</td>\n    </tr>\n    <tr>\n      <th>6387</th>\n      <td>822771</td>\n      <td>7329</td>\n      <td>70</td>\n      <td>8206</td>\n      <td>0</td>\n      <td>8206</td>\n      <td>0</td>\n      <td>c.8206G&gt;C</td>\n      <td>r.(?)</td>\n      <td>p.(Ala2736Pro)</td>\n      <td></td>\n      <td>216500979</td>\n      <td>216500979</td>\n      <td>Conflicting classifications of pathogenicity</td>\n      <td>VCV000357763</td>\n      <td>65707208</td>\n      <td>&lt;NA&gt;</td>\n      <td>NaN</td>\n      <td>c.-521C&gt;T</td>\n    </tr>\n    <tr>\n      <th>6388</th>\n      <td>791202</td>\n      <td>7329</td>\n      <td>90</td>\n      <td>7724</td>\n      <td>-1</td>\n      <td>8071</td>\n      <td>1</td>\n      <td>c.(7723+1_7724-1)_(8071+1_8072-1)dup</td>\n      <td>r.(?)</td>\n      <td>p.(?)</td>\n      <td>39i-41</td>\n      <td>&lt;NA&gt;</td>\n      <td>&lt;NA&gt;</td>\n      <td>Uncertain significance</td>\n      <td>VCV001396496</td>\n      <td>65707212</td>\n      <td>&lt;NA&gt;</td>\n      <td>NaN</td>\n      <td>c.-525T&gt;G</td>\n    </tr>\n    <tr>\n      <th>6389</th>\n      <td>791202</td>\n      <td>7329</td>\n      <td>90</td>\n      <td>7724</td>\n      <td>-1</td>\n      <td>8071</td>\n      <td>1</td>\n      <td>c.(7723+1_7724-1)_(8071+1_8072-1)dup</td>\n      <td>r.(?)</td>\n      <td>p.(?)</td>\n      <td>39i-41</td>\n      <td>&lt;NA&gt;</td>\n      <td>&lt;NA&gt;</td>\n      <td>Uncertain significance</td>\n      <td>VCV001470231</td>\n      <td>65707216</td>\n      <td>&lt;NA&gt;</td>\n      <td>NaN</td>\n      <td>c.-529G&gt;A</td>\n    </tr>\n    <tr>\n      <th>6390</th>\n      <td>791202</td>\n      <td>7329</td>\n      <td>90</td>\n      <td>7724</td>\n      <td>-1</td>\n      <td>8071</td>\n      <td>1</td>\n      <td>c.(7723+1_7724-1)_(8071+1_8072-1)dup</td>\n      <td>r.(?)</td>\n      <td>p.(?)</td>\n      <td>39i-41</td>\n      <td>&lt;NA&gt;</td>\n      <td>&lt;NA&gt;</td>\n      <td>Uncertain significance</td>\n      <td>VCV001376945</td>\n      <td>65707219</td>\n      <td>&lt;NA&gt;</td>\n      <td>NaN</td>\n      <td>c.-532A&gt;C</td>\n    </tr>\n  </tbody>\n</table>\n<p>6391 rows × 19 columns</p>\n</div>"
     },
     "execution_count": 1,
     "metadata": {},
     "output_type": "execute_result"
    }
   ],
   "source": [
    "from api.data.refactoring import merge_lovd_clinvar, filter_clinvar_for_eys\n",
    "import pandas as pd\n",
    "from api import (store_database_for_eys_gene,\n",
    "                 parse_lovd,\n",
    "                 set_lovd_dtypes,\n",
    "                 LOVD_PATH,\n",
    "                 CLINVAR_PATH)\n",
    "\n",
    "store_database_for_eys_gene('lovd', False)\n",
    "store_database_for_eys_gene('clinvar', False)\n",
    "\n",
    "lovd_data = parse_lovd(LOVD_PATH + \"/lovd_data.txt\")\n",
    "clinvar_data = pd.read_csv(CLINVAR_PATH + \"/clinvar_data.txt\", sep='\\t')\n",
    "\n",
    "set_lovd_dtypes(lovd_data)\n",
    "\n",
    "variants_on_genome = lovd_data[\"Variants_On_Genome\"].copy()\n",
    "\n",
    "# merge Variants_On_Transcripts with Variants_On_Genome to add position_g_start and position_g_end\n",
    "lovd_data = pd.merge(lovd_data[\"Variants_On_Transcripts\"],\n",
    "                       variants_on_genome[['id', 'position_g_start', 'position_g_end']],\n",
    "                       on='id',\n",
    "                       how='left')\n",
    "\n",
    "clinvar = clinvar_data.copy()[[\"Name\",\n",
    "                               \"GRCh38Location\",\n",
    "                               \"Germline classification\",\n",
    "                               \"Accession\"]]\n",
    "clinvar = filter_clinvar_for_eys(clinvar)\n",
    "final_data = merge_lovd_clinvar(lovd_data, clinvar)\n",
    "final_data"
   ],
   "metadata": {
    "collapsed": false,
    "ExecuteTime": {
     "end_time": "2024-08-17T10:47:55.564087Z",
     "start_time": "2024-08-17T10:47:47.415705Z"
    }
   },
   "id": "2315055955b47",
   "execution_count": 1
  },
  {
   "cell_type": "code",
   "outputs": [
    {
     "data": {
      "text/plain": "                                              Name GRCh38Location  \\\n12      NM_001142800.2(EYS):c.9434A>G (p.Ter3145=)       63720597   \n13    NM_001142800.2(EYS):c.9433T>G (p.Ter3145Glu)       63720598   \n14      NM_001142800.2(EYS):c.9432A>G (p.Thr3144=)       63720599   \n17    NM_001142800.2(EYS):c.9427G>A (p.Val3143Ile)       63720604   \n18      NM_001142800.2(EYS):c.9423T>C (p.Asn3141=)       63720608   \n...                                            ...            ...   \n4493                 NM_001142800.2(EYS):c.-503A>G       65707190   \n4494                 NM_001142800.2(EYS):c.-521C>T       65707208   \n4495                 NM_001142800.2(EYS):c.-525T>G       65707212   \n4496                 NM_001142800.2(EYS):c.-529G>A       65707216   \n4497                 NM_001142800.2(EYS):c.-532A>C       65707219   \n\n                           Germline classification     Accession  \n12                                   Likely benign  VCV003015254  \n13                          Uncertain significance  VCV001519786  \n14    Conflicting classifications of pathogenicity  VCV002167040  \n17                          Uncertain significance  VCV001948618  \n18                                   Likely benign  VCV001129211  \n...                                            ...           ...  \n4493                        Uncertain significance  VCV001368834  \n4494  Conflicting classifications of pathogenicity  VCV000357763  \n4495                        Uncertain significance  VCV001396496  \n4496                        Uncertain significance  VCV001470231  \n4497                        Uncertain significance  VCV001376945  \n\n[3832 rows x 4 columns]",
      "text/html": "<div>\n<style scoped>\n    .dataframe tbody tr th:only-of-type {\n        vertical-align: middle;\n    }\n\n    .dataframe tbody tr th {\n        vertical-align: top;\n    }\n\n    .dataframe thead th {\n        text-align: right;\n    }\n</style>\n<table border=\"1\" class=\"dataframe\">\n  <thead>\n    <tr style=\"text-align: right;\">\n      <th></th>\n      <th>Name</th>\n      <th>GRCh38Location</th>\n      <th>Germline classification</th>\n      <th>Accession</th>\n    </tr>\n  </thead>\n  <tbody>\n    <tr>\n      <th>12</th>\n      <td>NM_001142800.2(EYS):c.9434A&gt;G (p.Ter3145=)</td>\n      <td>63720597</td>\n      <td>Likely benign</td>\n      <td>VCV003015254</td>\n    </tr>\n    <tr>\n      <th>13</th>\n      <td>NM_001142800.2(EYS):c.9433T&gt;G (p.Ter3145Glu)</td>\n      <td>63720598</td>\n      <td>Uncertain significance</td>\n      <td>VCV001519786</td>\n    </tr>\n    <tr>\n      <th>14</th>\n      <td>NM_001142800.2(EYS):c.9432A&gt;G (p.Thr3144=)</td>\n      <td>63720599</td>\n      <td>Conflicting classifications of pathogenicity</td>\n      <td>VCV002167040</td>\n    </tr>\n    <tr>\n      <th>17</th>\n      <td>NM_001142800.2(EYS):c.9427G&gt;A (p.Val3143Ile)</td>\n      <td>63720604</td>\n      <td>Uncertain significance</td>\n      <td>VCV001948618</td>\n    </tr>\n    <tr>\n      <th>18</th>\n      <td>NM_001142800.2(EYS):c.9423T&gt;C (p.Asn3141=)</td>\n      <td>63720608</td>\n      <td>Likely benign</td>\n      <td>VCV001129211</td>\n    </tr>\n    <tr>\n      <th>...</th>\n      <td>...</td>\n      <td>...</td>\n      <td>...</td>\n      <td>...</td>\n    </tr>\n    <tr>\n      <th>4493</th>\n      <td>NM_001142800.2(EYS):c.-503A&gt;G</td>\n      <td>65707190</td>\n      <td>Uncertain significance</td>\n      <td>VCV001368834</td>\n    </tr>\n    <tr>\n      <th>4494</th>\n      <td>NM_001142800.2(EYS):c.-521C&gt;T</td>\n      <td>65707208</td>\n      <td>Conflicting classifications of pathogenicity</td>\n      <td>VCV000357763</td>\n    </tr>\n    <tr>\n      <th>4495</th>\n      <td>NM_001142800.2(EYS):c.-525T&gt;G</td>\n      <td>65707212</td>\n      <td>Uncertain significance</td>\n      <td>VCV001396496</td>\n    </tr>\n    <tr>\n      <th>4496</th>\n      <td>NM_001142800.2(EYS):c.-529G&gt;A</td>\n      <td>65707216</td>\n      <td>Uncertain significance</td>\n      <td>VCV001470231</td>\n    </tr>\n    <tr>\n      <th>4497</th>\n      <td>NM_001142800.2(EYS):c.-532A&gt;C</td>\n      <td>65707219</td>\n      <td>Uncertain significance</td>\n      <td>VCV001376945</td>\n    </tr>\n  </tbody>\n</table>\n<p>3832 rows × 4 columns</p>\n</div>"
     },
     "execution_count": 5,
     "metadata": {},
     "output_type": "execute_result"
    }
   ],
   "source": [
    "from api.data.refactoring import filter_clinvar_for_eys\n",
    "import pandas as pd\n",
    "from api import (store_database_for_eys_gene,\n",
    "                 CLINVAR_PATH)\n",
    "\n",
    "store_database_for_eys_gene('clinvar', False)\n",
    "clinvar_data = pd.read_csv(CLINVAR_PATH + \"/clinvar_data.txt\", sep='\\t')\n",
    "\n",
    "clinvar = clinvar_data.copy()[[\"Name\",\n",
    "                               \"GRCh38Location\",\n",
    "                               \"Germline classification\",\n",
    "                               \"Accession\"]]\n",
    "filtered_data_clinvar = filter_clinvar_for_eys(clinvar)\n",
    "filtered_data_clinvar"
   ],
   "metadata": {
    "collapsed": false,
    "ExecuteTime": {
     "end_time": "2024-08-17T10:36:10.826802Z",
     "start_time": "2024-08-17T10:36:10.776174Z"
    }
   },
   "id": "db4e69f13012acaf",
   "execution_count": 5
  },
  {
   "cell_type": "code",
   "outputs": [],
   "source": [],
   "metadata": {
    "collapsed": false
   },
   "id": "6f38f5b79a8f8154"
  }
 ],
 "metadata": {
  "kernelspec": {
   "display_name": "Python 3 (ipykernel)",
   "language": "python",
   "name": "python3"
  },
  "language_info": {
   "codemirror_mode": {
    "name": "ipython",
    "version": 3
   },
   "file_extension": ".py",
   "mimetype": "text/x-python",
   "name": "python",
   "nbconvert_exporter": "python",
   "pygments_lexer": "ipython3",
   "version": "3.11.6"
  }
 },
 "nbformat": 4,
 "nbformat_minor": 5
}
