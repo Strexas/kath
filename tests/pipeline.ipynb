{
 "cells": [
  {
   "cell_type": "code",
   "execution_count": null,
   "id": "initial_id",
   "metadata": {
    "collapsed": true
   },
   "outputs": [],
   "source": [
    "from data_collection import (store_database_for_eys_gene,\n",
    "                             parse_lovd,\n",
    "                             LOVD_PATH,\n",
    "                             set_lovd_dtypes)"
   ]
  },
  {
   "cell_type": "code",
   "execution_count": null,
   "id": "f49f7691a27aa7b4",
   "metadata": {
    "collapsed": false
   },
   "outputs": [],
   "source": [
    "store_database_for_eys_gene(\"lovd\", override=False)"
   ]
  },
  {
   "cell_type": "code",
   "execution_count": null,
   "id": "cf5c45c0f7b9de0f",
   "metadata": {
    "collapsed": false
   },
   "outputs": [],
   "source": [
    "data = parse_lovd(LOVD_PATH + \"/lovd_data.txt\")\n",
    "for i in data:\n",
    "    print(i)\n",
    "    display(data[i])"
   ]
  },
  {
   "cell_type": "code",
   "execution_count": null,
   "id": "ef07740b2fa63e42",
   "metadata": {
    "collapsed": false
   },
   "outputs": [],
   "source": [
    "set_lovd_dtypes(data)\n",
    "for i in data:\n",
    "    print(i)\n",
    "    display(data[i].info())"
   ]
  },
  {
   "cell_type": "code",
   "execution_count": null,
   "id": "d5ee0724",
   "metadata": {},
   "outputs": [],
   "source": [
    "from tools import (fetch_cadd_score, fetch_cadd_scores)\n",
    "import pandas as pd\n",
    "\n",
    "row_idx = 1\n",
    "selected_row = data[\"Variants_On_Genome\"].iloc[row_idx]\n",
    "\n",
    "selected_row_df = pd.DataFrame([selected_row])\n",
    "headers = pd.DataFrame(columns=selected_row.index)\n",
    "result_df = pd.concat([headers, selected_row_df])\n",
    "display(result_df)\n",
    "\n",
    "chromosome = selected_row[\"chromosome\"]\n",
    "pos_start = selected_row[\"position_g_start\"]\n",
    "pos_end = selected_row[\"position_g_end\"]\n",
    "\n",
    "display(\"Variant scoring:\")\n",
    "score = fetch_cadd_scores(\"GRCh38-v1.7\", chromosome, pos_start, pos_end)\n",
    "score_df = pd.DataFrame(score[1:], columns=score[0])\n",
    "display(score_df)\n",
    "      "
   ]
  }
 ],
 "metadata": {
  "kernelspec": {
   "display_name": "Python 3",
   "language": "python",
   "name": "python3"
  },
  "language_info": {
   "codemirror_mode": {
    "name": "ipython",
    "version": 3
   },
   "file_extension": ".py",
   "mimetype": "text/x-python",
   "name": "python",
   "nbconvert_exporter": "python",
   "pygments_lexer": "ipython3",
   "version": "3.12.3"
  }
 },
 "nbformat": 4,
 "nbformat_minor": 5
}
